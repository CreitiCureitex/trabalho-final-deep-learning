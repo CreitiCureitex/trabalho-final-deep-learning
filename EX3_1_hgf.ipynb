{
 "cells": [
  {
   "cell_type": "markdown",
   "metadata": {},
   "source": [
    "# Bibliotecas"
   ]
  },
  {
   "cell_type": "code",
   "execution_count": 1,
   "metadata": {},
   "outputs": [],
   "source": [
    "import numpy as np\r\n",
    "import pandas as pd\r\n",
    "import tensorflow as tf\r\n",
    "import matplotlib.pyplot as plt\r\n",
    "import seaborn as sns\r\n",
    "import plotly.express as px\r\n",
    "\r\n",
    "from sklearn import datasets\r\n",
    "from sklearn.model_selection import train_test_split\r\n",
    "from sklearn.preprocessing import OneHotEncoder, StandardScaler, MinMaxScaler\r\n",
    "from sklearn.model_selection import cross_val_score\r\n",
    "\r\n",
    "from keras.models import Sequential, load_model\r\n",
    "from keras.layers import Dense\r\n",
    "from keras.layers import Dropout\r\n",
    "from keras.utils.vis_utils import plot_model\r\n",
    "from keras.utils.np_utils import  to_categorical\r\n",
    "from keras.callbacks import ModelCheckpoint\r\n",
    "from keras.wrappers.scikit_learn import KerasClassifier\r\n",
    "\r\n",
    "\r\n",
    "# Ignorar Avisos desnecessários\r\n",
    "import warnings\r\n",
    "warnings.simplefilter(action='ignore', category=FutureWarning)\r\n",
    "warnings.simplefilter(action='ignore', category=DeprecationWarning)"
   ]
  },
  {
   "cell_type": "markdown",
   "metadata": {},
   "source": [
    "## Confere se temos GPU instalada"
   ]
  },
  {
   "cell_type": "code",
   "execution_count": 2,
   "metadata": {},
   "outputs": [
    {
     "name": "stdout",
     "output_type": "stream",
     "text": [
      "Num GPUs Available:  1\n"
     ]
    }
   ],
   "source": [
    "print(\"Num GPUs Available: \", len(tf.config.experimental.list_physical_devices('GPU')))\r\n",
    "#print(tf.config.experimental.list_physical_devices())"
   ]
  },
  {
   "cell_type": "markdown",
   "metadata": {},
   "source": [
    "## Funções Auxiliares"
   ]
  },
  {
   "cell_type": "code",
   "execution_count": 3,
   "metadata": {},
   "outputs": [],
   "source": [
    "def plot_history(history):\r\n",
    "    acc = history.history['accuracy']\r\n",
    "    val_acc = history.history['val_accuracy']\r\n",
    "    loss = history.history['loss']\r\n",
    "    val_loss = history.history['val_loss']\r\n",
    "    x = range(1, len(acc) + 1)\r\n",
    "\r\n",
    "    plt.figure(figsize=(12, 5))\r\n",
    "    plt.subplot(1, 2, 1)\r\n",
    "    plt.plot(x, acc, 'b', label='Training Accuracy')\r\n",
    "    plt.plot(x, val_acc, 'r', label='Validation Accuracy')\r\n",
    "    plt.title('Training and validation Accuracy')\r\n",
    "    plt.subplot(1, 2, 2)\r\n",
    "    plt.plot(x, loss, 'b', label='Training loss')\r\n",
    "    plt.plot(x, val_loss, 'r', label='Validation loss')\r\n",
    "    plt.title('Training and validation loss')\r\n",
    "    plt.legend()"
   ]
  },
  {
   "cell_type": "markdown",
   "metadata": {},
   "source": [
    "# Análise dos Dados\r\n",
    "\r\n",
    "## Carregando a base de dados"
   ]
  },
  {
   "cell_type": "code",
   "execution_count": 4,
   "metadata": {},
   "outputs": [],
   "source": [
    "iris = datasets.load_iris()"
   ]
  },
  {
   "cell_type": "code",
   "execution_count": 5,
   "metadata": {},
   "outputs": [
    {
     "data": {
      "application/vnd.plotly.v1+json": {
       "config": {
        "plotlyServerURL": "https://plot.ly"
       },
       "data": [
        {
         "diagonal": {
          "visible": false
         },
         "dimensions": [
          {
           "axis": {
            "matches": true
           },
           "label": "sepal_width",
           "values": [
            3.5,
            3,
            3.2,
            3.1,
            3.6,
            3.9,
            3.4,
            3.4,
            2.9,
            3.1,
            3.7,
            3.4,
            3,
            3,
            4,
            4.4,
            3.9,
            3.5,
            3.8,
            3.8,
            3.4,
            3.7,
            3.6,
            3.3,
            3.4,
            3,
            3.4,
            3.5,
            3.4,
            3.2,
            3.1,
            3.4,
            4.1,
            4.2,
            3.1,
            3.2,
            3.5,
            3.1,
            3,
            3.4,
            3.5,
            2.3,
            3.2,
            3.5,
            3.8,
            3,
            3.8,
            3.2,
            3.7,
            3.3
           ]
          },
          {
           "axis": {
            "matches": true
           },
           "label": "sepal_length",
           "values": [
            5.1,
            4.9,
            4.7,
            4.6,
            5,
            5.4,
            4.6,
            5,
            4.4,
            4.9,
            5.4,
            4.8,
            4.8,
            4.3,
            5.8,
            5.7,
            5.4,
            5.1,
            5.7,
            5.1,
            5.4,
            5.1,
            4.6,
            5.1,
            4.8,
            5,
            5,
            5.2,
            5.2,
            4.7,
            4.8,
            5.4,
            5.2,
            5.5,
            4.9,
            5,
            5.5,
            4.9,
            4.4,
            5.1,
            5,
            4.5,
            4.4,
            5,
            5.1,
            4.8,
            5.1,
            4.6,
            5.3,
            5
           ]
          },
          {
           "axis": {
            "matches": true
           },
           "label": "petal_width",
           "values": [
            0.2,
            0.2,
            0.2,
            0.2,
            0.2,
            0.4,
            0.3,
            0.2,
            0.2,
            0.1,
            0.2,
            0.2,
            0.1,
            0.1,
            0.2,
            0.4,
            0.4,
            0.3,
            0.3,
            0.3,
            0.2,
            0.4,
            0.2,
            0.5,
            0.2,
            0.2,
            0.4,
            0.2,
            0.2,
            0.2,
            0.2,
            0.4,
            0.1,
            0.2,
            0.1,
            0.2,
            0.2,
            0.1,
            0.2,
            0.2,
            0.3,
            0.3,
            0.2,
            0.6,
            0.4,
            0.3,
            0.2,
            0.2,
            0.2,
            0.2
           ]
          },
          {
           "axis": {
            "matches": true
           },
           "label": "petal_length",
           "values": [
            1.4,
            1.4,
            1.3,
            1.5,
            1.4,
            1.7,
            1.4,
            1.5,
            1.4,
            1.5,
            1.5,
            1.6,
            1.4,
            1.1,
            1.2,
            1.5,
            1.3,
            1.4,
            1.7,
            1.5,
            1.7,
            1.5,
            1,
            1.7,
            1.9,
            1.6,
            1.6,
            1.5,
            1.4,
            1.6,
            1.6,
            1.5,
            1.5,
            1.4,
            1.5,
            1.2,
            1.3,
            1.5,
            1.3,
            1.5,
            1.3,
            1.3,
            1.3,
            1.6,
            1.9,
            1.4,
            1.6,
            1.4,
            1.5,
            1.4
           ]
          }
         ],
         "hovertemplate": "species=setosa<br>%{xaxis.title.text}=%{x}<br>%{yaxis.title.text}=%{y}<extra></extra>",
         "legendgroup": "setosa",
         "marker": {
          "color": "#636efa",
          "symbol": "circle"
         },
         "name": "setosa",
         "showlegend": true,
         "showupperhalf": false,
         "type": "splom"
        },
        {
         "diagonal": {
          "visible": false
         },
         "dimensions": [
          {
           "axis": {
            "matches": true
           },
           "label": "sepal_width",
           "values": [
            3.2,
            3.2,
            3.1,
            2.3,
            2.8,
            2.8,
            3.3,
            2.4,
            2.9,
            2.7,
            2,
            3,
            2.2,
            2.9,
            2.9,
            3.1,
            3,
            2.7,
            2.2,
            2.5,
            3.2,
            2.8,
            2.5,
            2.8,
            2.9,
            3,
            2.8,
            3,
            2.9,
            2.6,
            2.4,
            2.4,
            2.7,
            2.7,
            3,
            3.4,
            3.1,
            2.3,
            3,
            2.5,
            2.6,
            3,
            2.6,
            2.3,
            2.7,
            3,
            2.9,
            2.9,
            2.5,
            2.8
           ]
          },
          {
           "axis": {
            "matches": true
           },
           "label": "sepal_length",
           "values": [
            7,
            6.4,
            6.9,
            5.5,
            6.5,
            5.7,
            6.3,
            4.9,
            6.6,
            5.2,
            5,
            5.9,
            6,
            6.1,
            5.6,
            6.7,
            5.6,
            5.8,
            6.2,
            5.6,
            5.9,
            6.1,
            6.3,
            6.1,
            6.4,
            6.6,
            6.8,
            6.7,
            6,
            5.7,
            5.5,
            5.5,
            5.8,
            6,
            5.4,
            6,
            6.7,
            6.3,
            5.6,
            5.5,
            5.5,
            6.1,
            5.8,
            5,
            5.6,
            5.7,
            5.7,
            6.2,
            5.1,
            5.7
           ]
          },
          {
           "axis": {
            "matches": true
           },
           "label": "petal_width",
           "values": [
            1.4,
            1.5,
            1.5,
            1.3,
            1.5,
            1.3,
            1.6,
            1,
            1.3,
            1.4,
            1,
            1.5,
            1,
            1.4,
            1.3,
            1.4,
            1.5,
            1,
            1.5,
            1.1,
            1.8,
            1.3,
            1.5,
            1.2,
            1.3,
            1.4,
            1.4,
            1.7,
            1.5,
            1,
            1.1,
            1,
            1.2,
            1.6,
            1.5,
            1.6,
            1.5,
            1.3,
            1.3,
            1.3,
            1.2,
            1.4,
            1.2,
            1,
            1.3,
            1.2,
            1.3,
            1.3,
            1.1,
            1.3
           ]
          },
          {
           "axis": {
            "matches": true
           },
           "label": "petal_length",
           "values": [
            4.7,
            4.5,
            4.9,
            4,
            4.6,
            4.5,
            4.7,
            3.3,
            4.6,
            3.9,
            3.5,
            4.2,
            4,
            4.7,
            3.6,
            4.4,
            4.5,
            4.1,
            4.5,
            3.9,
            4.8,
            4,
            4.9,
            4.7,
            4.3,
            4.4,
            4.8,
            5,
            4.5,
            3.5,
            3.8,
            3.7,
            3.9,
            5.1,
            4.5,
            4.5,
            4.7,
            4.4,
            4.1,
            4,
            4.4,
            4.6,
            4,
            3.3,
            4.2,
            4.2,
            4.2,
            4.3,
            3,
            4.1
           ]
          }
         ],
         "hovertemplate": "species=versicolor<br>%{xaxis.title.text}=%{x}<br>%{yaxis.title.text}=%{y}<extra></extra>",
         "legendgroup": "versicolor",
         "marker": {
          "color": "#EF553B",
          "symbol": "circle"
         },
         "name": "versicolor",
         "showlegend": true,
         "showupperhalf": false,
         "type": "splom"
        },
        {
         "diagonal": {
          "visible": false
         },
         "dimensions": [
          {
           "axis": {
            "matches": true
           },
           "label": "sepal_width",
           "values": [
            3.3,
            2.7,
            3,
            2.9,
            3,
            3,
            2.5,
            2.9,
            2.5,
            3.6,
            3.2,
            2.7,
            3,
            2.5,
            2.8,
            3.2,
            3,
            3.8,
            2.6,
            2.2,
            3.2,
            2.8,
            2.8,
            2.7,
            3.3,
            3.2,
            2.8,
            3,
            2.8,
            3,
            2.8,
            3.8,
            2.8,
            2.8,
            2.6,
            3,
            3.4,
            3.1,
            3,
            3.1,
            3.1,
            3.1,
            2.7,
            3.2,
            3.3,
            3,
            2.5,
            3,
            3.4,
            3
           ]
          },
          {
           "axis": {
            "matches": true
           },
           "label": "sepal_length",
           "values": [
            6.3,
            5.8,
            7.1,
            6.3,
            6.5,
            7.6,
            4.9,
            7.3,
            6.7,
            7.2,
            6.5,
            6.4,
            6.8,
            5.7,
            5.8,
            6.4,
            6.5,
            7.7,
            7.7,
            6,
            6.9,
            5.6,
            7.7,
            6.3,
            6.7,
            7.2,
            6.2,
            6.1,
            6.4,
            7.2,
            7.4,
            7.9,
            6.4,
            6.3,
            6.1,
            7.7,
            6.3,
            6.4,
            6,
            6.9,
            6.7,
            6.9,
            5.8,
            6.8,
            6.7,
            6.7,
            6.3,
            6.5,
            6.2,
            5.9
           ]
          },
          {
           "axis": {
            "matches": true
           },
           "label": "petal_width",
           "values": [
            2.5,
            1.9,
            2.1,
            1.8,
            2.2,
            2.1,
            1.7,
            1.8,
            1.8,
            2.5,
            2,
            1.9,
            2.1,
            2,
            2.4,
            2.3,
            1.8,
            2.2,
            2.3,
            1.5,
            2.3,
            2,
            2,
            1.8,
            2.1,
            1.8,
            1.8,
            1.8,
            2.1,
            1.6,
            1.9,
            2,
            2.2,
            1.5,
            1.4,
            2.3,
            2.4,
            1.8,
            1.8,
            2.1,
            2.4,
            2.3,
            1.9,
            2.3,
            2.5,
            2.3,
            1.9,
            2,
            2.3,
            1.8
           ]
          },
          {
           "axis": {
            "matches": true
           },
           "label": "petal_length",
           "values": [
            6,
            5.1,
            5.9,
            5.6,
            5.8,
            6.6,
            4.5,
            6.3,
            5.8,
            6.1,
            5.1,
            5.3,
            5.5,
            5,
            5.1,
            5.3,
            5.5,
            6.7,
            6.9,
            5,
            5.7,
            4.9,
            6.7,
            4.9,
            5.7,
            6,
            4.8,
            4.9,
            5.6,
            5.8,
            6.1,
            6.4,
            5.6,
            5.1,
            5.6,
            6.1,
            5.6,
            5.5,
            4.8,
            5.4,
            5.6,
            5.1,
            5.1,
            5.9,
            5.7,
            5.2,
            5,
            5.2,
            5.4,
            5.1
           ]
          }
         ],
         "hovertemplate": "species=virginica<br>%{xaxis.title.text}=%{x}<br>%{yaxis.title.text}=%{y}<extra></extra>",
         "legendgroup": "virginica",
         "marker": {
          "color": "#00cc96",
          "symbol": "circle"
         },
         "name": "virginica",
         "showlegend": true,
         "showupperhalf": false,
         "type": "splom"
        }
       ],
       "layout": {
        "dragmode": "select",
        "height": 600,
        "legend": {
         "title": {
          "text": "species"
         },
         "tracegroupgap": 0
        },
        "margin": {
         "t": 60
        },
        "template": {
         "data": {
          "bar": [
           {
            "error_x": {
             "color": "#2a3f5f"
            },
            "error_y": {
             "color": "#2a3f5f"
            },
            "marker": {
             "line": {
              "color": "#E5ECF6",
              "width": 0.5
             },
             "pattern": {
              "fillmode": "overlay",
              "size": 10,
              "solidity": 0.2
             }
            },
            "type": "bar"
           }
          ],
          "barpolar": [
           {
            "marker": {
             "line": {
              "color": "#E5ECF6",
              "width": 0.5
             },
             "pattern": {
              "fillmode": "overlay",
              "size": 10,
              "solidity": 0.2
             }
            },
            "type": "barpolar"
           }
          ],
          "carpet": [
           {
            "aaxis": {
             "endlinecolor": "#2a3f5f",
             "gridcolor": "white",
             "linecolor": "white",
             "minorgridcolor": "white",
             "startlinecolor": "#2a3f5f"
            },
            "baxis": {
             "endlinecolor": "#2a3f5f",
             "gridcolor": "white",
             "linecolor": "white",
             "minorgridcolor": "white",
             "startlinecolor": "#2a3f5f"
            },
            "type": "carpet"
           }
          ],
          "choropleth": [
           {
            "colorbar": {
             "outlinewidth": 0,
             "ticks": ""
            },
            "type": "choropleth"
           }
          ],
          "contour": [
           {
            "colorbar": {
             "outlinewidth": 0,
             "ticks": ""
            },
            "colorscale": [
             [
              0,
              "#0d0887"
             ],
             [
              0.1111111111111111,
              "#46039f"
             ],
             [
              0.2222222222222222,
              "#7201a8"
             ],
             [
              0.3333333333333333,
              "#9c179e"
             ],
             [
              0.4444444444444444,
              "#bd3786"
             ],
             [
              0.5555555555555556,
              "#d8576b"
             ],
             [
              0.6666666666666666,
              "#ed7953"
             ],
             [
              0.7777777777777778,
              "#fb9f3a"
             ],
             [
              0.8888888888888888,
              "#fdca26"
             ],
             [
              1,
              "#f0f921"
             ]
            ],
            "type": "contour"
           }
          ],
          "contourcarpet": [
           {
            "colorbar": {
             "outlinewidth": 0,
             "ticks": ""
            },
            "type": "contourcarpet"
           }
          ],
          "heatmap": [
           {
            "colorbar": {
             "outlinewidth": 0,
             "ticks": ""
            },
            "colorscale": [
             [
              0,
              "#0d0887"
             ],
             [
              0.1111111111111111,
              "#46039f"
             ],
             [
              0.2222222222222222,
              "#7201a8"
             ],
             [
              0.3333333333333333,
              "#9c179e"
             ],
             [
              0.4444444444444444,
              "#bd3786"
             ],
             [
              0.5555555555555556,
              "#d8576b"
             ],
             [
              0.6666666666666666,
              "#ed7953"
             ],
             [
              0.7777777777777778,
              "#fb9f3a"
             ],
             [
              0.8888888888888888,
              "#fdca26"
             ],
             [
              1,
              "#f0f921"
             ]
            ],
            "type": "heatmap"
           }
          ],
          "heatmapgl": [
           {
            "colorbar": {
             "outlinewidth": 0,
             "ticks": ""
            },
            "colorscale": [
             [
              0,
              "#0d0887"
             ],
             [
              0.1111111111111111,
              "#46039f"
             ],
             [
              0.2222222222222222,
              "#7201a8"
             ],
             [
              0.3333333333333333,
              "#9c179e"
             ],
             [
              0.4444444444444444,
              "#bd3786"
             ],
             [
              0.5555555555555556,
              "#d8576b"
             ],
             [
              0.6666666666666666,
              "#ed7953"
             ],
             [
              0.7777777777777778,
              "#fb9f3a"
             ],
             [
              0.8888888888888888,
              "#fdca26"
             ],
             [
              1,
              "#f0f921"
             ]
            ],
            "type": "heatmapgl"
           }
          ],
          "histogram": [
           {
            "marker": {
             "pattern": {
              "fillmode": "overlay",
              "size": 10,
              "solidity": 0.2
             }
            },
            "type": "histogram"
           }
          ],
          "histogram2d": [
           {
            "colorbar": {
             "outlinewidth": 0,
             "ticks": ""
            },
            "colorscale": [
             [
              0,
              "#0d0887"
             ],
             [
              0.1111111111111111,
              "#46039f"
             ],
             [
              0.2222222222222222,
              "#7201a8"
             ],
             [
              0.3333333333333333,
              "#9c179e"
             ],
             [
              0.4444444444444444,
              "#bd3786"
             ],
             [
              0.5555555555555556,
              "#d8576b"
             ],
             [
              0.6666666666666666,
              "#ed7953"
             ],
             [
              0.7777777777777778,
              "#fb9f3a"
             ],
             [
              0.8888888888888888,
              "#fdca26"
             ],
             [
              1,
              "#f0f921"
             ]
            ],
            "type": "histogram2d"
           }
          ],
          "histogram2dcontour": [
           {
            "colorbar": {
             "outlinewidth": 0,
             "ticks": ""
            },
            "colorscale": [
             [
              0,
              "#0d0887"
             ],
             [
              0.1111111111111111,
              "#46039f"
             ],
             [
              0.2222222222222222,
              "#7201a8"
             ],
             [
              0.3333333333333333,
              "#9c179e"
             ],
             [
              0.4444444444444444,
              "#bd3786"
             ],
             [
              0.5555555555555556,
              "#d8576b"
             ],
             [
              0.6666666666666666,
              "#ed7953"
             ],
             [
              0.7777777777777778,
              "#fb9f3a"
             ],
             [
              0.8888888888888888,
              "#fdca26"
             ],
             [
              1,
              "#f0f921"
             ]
            ],
            "type": "histogram2dcontour"
           }
          ],
          "mesh3d": [
           {
            "colorbar": {
             "outlinewidth": 0,
             "ticks": ""
            },
            "type": "mesh3d"
           }
          ],
          "parcoords": [
           {
            "line": {
             "colorbar": {
              "outlinewidth": 0,
              "ticks": ""
             }
            },
            "type": "parcoords"
           }
          ],
          "pie": [
           {
            "automargin": true,
            "type": "pie"
           }
          ],
          "scatter": [
           {
            "marker": {
             "colorbar": {
              "outlinewidth": 0,
              "ticks": ""
             }
            },
            "type": "scatter"
           }
          ],
          "scatter3d": [
           {
            "line": {
             "colorbar": {
              "outlinewidth": 0,
              "ticks": ""
             }
            },
            "marker": {
             "colorbar": {
              "outlinewidth": 0,
              "ticks": ""
             }
            },
            "type": "scatter3d"
           }
          ],
          "scattercarpet": [
           {
            "marker": {
             "colorbar": {
              "outlinewidth": 0,
              "ticks": ""
             }
            },
            "type": "scattercarpet"
           }
          ],
          "scattergeo": [
           {
            "marker": {
             "colorbar": {
              "outlinewidth": 0,
              "ticks": ""
             }
            },
            "type": "scattergeo"
           }
          ],
          "scattergl": [
           {
            "marker": {
             "colorbar": {
              "outlinewidth": 0,
              "ticks": ""
             }
            },
            "type": "scattergl"
           }
          ],
          "scattermapbox": [
           {
            "marker": {
             "colorbar": {
              "outlinewidth": 0,
              "ticks": ""
             }
            },
            "type": "scattermapbox"
           }
          ],
          "scatterpolar": [
           {
            "marker": {
             "colorbar": {
              "outlinewidth": 0,
              "ticks": ""
             }
            },
            "type": "scatterpolar"
           }
          ],
          "scatterpolargl": [
           {
            "marker": {
             "colorbar": {
              "outlinewidth": 0,
              "ticks": ""
             }
            },
            "type": "scatterpolargl"
           }
          ],
          "scatterternary": [
           {
            "marker": {
             "colorbar": {
              "outlinewidth": 0,
              "ticks": ""
             }
            },
            "type": "scatterternary"
           }
          ],
          "surface": [
           {
            "colorbar": {
             "outlinewidth": 0,
             "ticks": ""
            },
            "colorscale": [
             [
              0,
              "#0d0887"
             ],
             [
              0.1111111111111111,
              "#46039f"
             ],
             [
              0.2222222222222222,
              "#7201a8"
             ],
             [
              0.3333333333333333,
              "#9c179e"
             ],
             [
              0.4444444444444444,
              "#bd3786"
             ],
             [
              0.5555555555555556,
              "#d8576b"
             ],
             [
              0.6666666666666666,
              "#ed7953"
             ],
             [
              0.7777777777777778,
              "#fb9f3a"
             ],
             [
              0.8888888888888888,
              "#fdca26"
             ],
             [
              1,
              "#f0f921"
             ]
            ],
            "type": "surface"
           }
          ],
          "table": [
           {
            "cells": {
             "fill": {
              "color": "#EBF0F8"
             },
             "line": {
              "color": "white"
             }
            },
            "header": {
             "fill": {
              "color": "#C8D4E3"
             },
             "line": {
              "color": "white"
             }
            },
            "type": "table"
           }
          ]
         },
         "layout": {
          "annotationdefaults": {
           "arrowcolor": "#2a3f5f",
           "arrowhead": 0,
           "arrowwidth": 1
          },
          "autotypenumbers": "strict",
          "coloraxis": {
           "colorbar": {
            "outlinewidth": 0,
            "ticks": ""
           }
          },
          "colorscale": {
           "diverging": [
            [
             0,
             "#8e0152"
            ],
            [
             0.1,
             "#c51b7d"
            ],
            [
             0.2,
             "#de77ae"
            ],
            [
             0.3,
             "#f1b6da"
            ],
            [
             0.4,
             "#fde0ef"
            ],
            [
             0.5,
             "#f7f7f7"
            ],
            [
             0.6,
             "#e6f5d0"
            ],
            [
             0.7,
             "#b8e186"
            ],
            [
             0.8,
             "#7fbc41"
            ],
            [
             0.9,
             "#4d9221"
            ],
            [
             1,
             "#276419"
            ]
           ],
           "sequential": [
            [
             0,
             "#0d0887"
            ],
            [
             0.1111111111111111,
             "#46039f"
            ],
            [
             0.2222222222222222,
             "#7201a8"
            ],
            [
             0.3333333333333333,
             "#9c179e"
            ],
            [
             0.4444444444444444,
             "#bd3786"
            ],
            [
             0.5555555555555556,
             "#d8576b"
            ],
            [
             0.6666666666666666,
             "#ed7953"
            ],
            [
             0.7777777777777778,
             "#fb9f3a"
            ],
            [
             0.8888888888888888,
             "#fdca26"
            ],
            [
             1,
             "#f0f921"
            ]
           ],
           "sequentialminus": [
            [
             0,
             "#0d0887"
            ],
            [
             0.1111111111111111,
             "#46039f"
            ],
            [
             0.2222222222222222,
             "#7201a8"
            ],
            [
             0.3333333333333333,
             "#9c179e"
            ],
            [
             0.4444444444444444,
             "#bd3786"
            ],
            [
             0.5555555555555556,
             "#d8576b"
            ],
            [
             0.6666666666666666,
             "#ed7953"
            ],
            [
             0.7777777777777778,
             "#fb9f3a"
            ],
            [
             0.8888888888888888,
             "#fdca26"
            ],
            [
             1,
             "#f0f921"
            ]
           ]
          },
          "colorway": [
           "#636efa",
           "#EF553B",
           "#00cc96",
           "#ab63fa",
           "#FFA15A",
           "#19d3f3",
           "#FF6692",
           "#B6E880",
           "#FF97FF",
           "#FECB52"
          ],
          "font": {
           "color": "#2a3f5f"
          },
          "geo": {
           "bgcolor": "white",
           "lakecolor": "white",
           "landcolor": "#E5ECF6",
           "showlakes": true,
           "showland": true,
           "subunitcolor": "white"
          },
          "hoverlabel": {
           "align": "left"
          },
          "hovermode": "closest",
          "mapbox": {
           "style": "light"
          },
          "paper_bgcolor": "white",
          "plot_bgcolor": "#E5ECF6",
          "polar": {
           "angularaxis": {
            "gridcolor": "white",
            "linecolor": "white",
            "ticks": ""
           },
           "bgcolor": "#E5ECF6",
           "radialaxis": {
            "gridcolor": "white",
            "linecolor": "white",
            "ticks": ""
           }
          },
          "scene": {
           "xaxis": {
            "backgroundcolor": "#E5ECF6",
            "gridcolor": "white",
            "gridwidth": 2,
            "linecolor": "white",
            "showbackground": true,
            "ticks": "",
            "zerolinecolor": "white"
           },
           "yaxis": {
            "backgroundcolor": "#E5ECF6",
            "gridcolor": "white",
            "gridwidth": 2,
            "linecolor": "white",
            "showbackground": true,
            "ticks": "",
            "zerolinecolor": "white"
           },
           "zaxis": {
            "backgroundcolor": "#E5ECF6",
            "gridcolor": "white",
            "gridwidth": 2,
            "linecolor": "white",
            "showbackground": true,
            "ticks": "",
            "zerolinecolor": "white"
           }
          },
          "shapedefaults": {
           "line": {
            "color": "#2a3f5f"
           }
          },
          "ternary": {
           "aaxis": {
            "gridcolor": "white",
            "linecolor": "white",
            "ticks": ""
           },
           "baxis": {
            "gridcolor": "white",
            "linecolor": "white",
            "ticks": ""
           },
           "bgcolor": "#E5ECF6",
           "caxis": {
            "gridcolor": "white",
            "linecolor": "white",
            "ticks": ""
           }
          },
          "title": {
           "x": 0.05
          },
          "xaxis": {
           "automargin": true,
           "gridcolor": "white",
           "linecolor": "white",
           "ticks": "",
           "title": {
            "standoff": 15
           },
           "zerolinecolor": "white",
           "zerolinewidth": 2
          },
          "yaxis": {
           "automargin": true,
           "gridcolor": "white",
           "linecolor": "white",
           "ticks": "",
           "title": {
            "standoff": 15
           },
           "zerolinecolor": "white",
           "zerolinewidth": 2
          }
         }
        },
        "title": {
         "text": "Iris Data set"
        },
        "width": 1000
       }
      }
     },
     "metadata": {},
     "output_type": "display_data"
    }
   ],
   "source": [
    "df = px.data.iris()\r\n",
    "fig = px.scatter_matrix(df, dimensions=[\"sepal_width\", \"sepal_length\", \"petal_width\", \"petal_length\"], color=\"species\")\r\n",
    "fig.update_traces(diagonal_visible=False, showupperhalf=False)\r\n",
    "fig.update_layout(title='Iris Data set', width=1000, height=600)\r\n",
    "fig.show()"
   ]
  },
  {
   "cell_type": "code",
   "execution_count": 6,
   "metadata": {},
   "outputs": [
    {
     "data": {
      "text/plain": [
       "array([[5.1, 3.5, 1.4, 0.2],\n",
       "       [4.9, 3. , 1.4, 0.2],\n",
       "       [4.7, 3.2, 1.3, 0.2],\n",
       "       [4.6, 3.1, 1.5, 0.2],\n",
       "       [5. , 3.6, 1.4, 0.2]])"
      ]
     },
     "execution_count": 6,
     "metadata": {},
     "output_type": "execute_result"
    }
   ],
   "source": [
    "features = iris.feature_names\r\n",
    "X = iris.data\r\n",
    "X[:5]"
   ]
  },
  {
   "cell_type": "code",
   "execution_count": 7,
   "metadata": {},
   "outputs": [
    {
     "data": {
      "text/plain": [
       "(150, 4)"
      ]
     },
     "execution_count": 7,
     "metadata": {},
     "output_type": "execute_result"
    }
   ],
   "source": [
    "X.shape"
   ]
  },
  {
   "cell_type": "code",
   "execution_count": 8,
   "metadata": {},
   "outputs": [
    {
     "data": {
      "text/plain": [
       "array([0, 0, 0, 0, 0, 0, 0, 0, 0, 0])"
      ]
     },
     "execution_count": 8,
     "metadata": {},
     "output_type": "execute_result"
    }
   ],
   "source": [
    "classes = iris.target_names\r\n",
    "y = iris.target\r\n",
    "y[:10]"
   ]
  },
  {
   "cell_type": "code",
   "execution_count": 10,
   "metadata": {},
   "outputs": [
    {
     "data": {
      "text/plain": [
       "(150,)"
      ]
     },
     "execution_count": 10,
     "metadata": {},
     "output_type": "execute_result"
    }
   ],
   "source": [
    "y.shape"
   ]
  },
  {
   "cell_type": "code",
   "execution_count": 9,
   "metadata": {},
   "outputs": [
    {
     "data": {
      "image/png": "[encoded data removed]",
      "text/plain": [
       "<Figure size 432x288 with 1 Axes>"
      ]
     },
     "metadata": {
      "needs_background": "light"
     },
     "output_type": "display_data"
    }
   ],
   "source": [
    "sns.countplot(y)\r\n",
    "plt.title('Distribuição da variável Target')\r\n",
    "plt.xlabel('Target')\r\n",
    "plt.xticks(ticks=range(0,3), labels=classes)\r\n",
    "plt.show()"
   ]
  },
  {
   "cell_type": "markdown",
   "metadata": {},
   "source": [
    "## Padronizando os dados com o MinMaxScaler do SKlearn. \r\n",
    "### Dados padronizados entre 0 e 1."
   ]
  },
  {
   "cell_type": "code",
   "execution_count": 11,
   "metadata": {},
   "outputs": [
    {
     "data": {
      "text/plain": [
       "array([[0.22222222, 0.625     , 0.06779661, 0.04166667],\n",
       "       [0.16666667, 0.41666667, 0.06779661, 0.04166667],\n",
       "       [0.11111111, 0.5       , 0.05084746, 0.04166667],\n",
       "       [0.08333333, 0.45833333, 0.08474576, 0.04166667],\n",
       "       [0.19444444, 0.66666667, 0.06779661, 0.04166667]])"
      ]
     },
     "execution_count": 11,
     "metadata": {},
     "output_type": "execute_result"
    }
   ],
   "source": [
    "scaler = MinMaxScaler()\r\n",
    "X = scaler.fit_transform(X)\r\n",
    "X[:5]"
   ]
  },
  {
   "cell_type": "markdown",
   "metadata": {},
   "source": [
    "### Dividindo a Base de Dados entre Treino e Teste, com 20% para os testes."
   ]
  },
  {
   "cell_type": "code",
   "execution_count": 12,
   "metadata": {},
   "outputs": [],
   "source": [
    "X_train, X_test, y_train, y_test = train_test_split(X, y, test_size=0.2, random_state=42)"
   ]
  },
  {
   "cell_type": "code",
   "execution_count": 13,
   "metadata": {},
   "outputs": [
    {
     "data": {
      "text/plain": [
       "(120, 4)"
      ]
     },
     "execution_count": 13,
     "metadata": {},
     "output_type": "execute_result"
    }
   ],
   "source": [
    "X_train.shape"
   ]
  },
  {
   "cell_type": "code",
   "execution_count": 14,
   "metadata": {},
   "outputs": [
    {
     "data": {
      "text/plain": [
       "(120,)"
      ]
     },
     "execution_count": 14,
     "metadata": {},
     "output_type": "execute_result"
    }
   ],
   "source": [
    "y_train.shape"
   ]
  },
  {
   "cell_type": "markdown",
   "metadata": {},
   "source": [
    "## Transformando a variável de resposta em \"One-hot vector\" para utilizá-la no modelo de MLP"
   ]
  },
  {
   "cell_type": "code",
   "execution_count": 16,
   "metadata": {},
   "outputs": [],
   "source": [
    "num_features = X.shape[1]\r\n",
    "num_classes = len(np.unique(y)) # y.shape[1]\r\n",
    "y_train = to_categorical(y_train)\r\n",
    "y_test = to_categorical(y_test)"
   ]
  },
  {
   "cell_type": "code",
   "execution_count": 17,
   "metadata": {},
   "outputs": [
    {
     "data": {
      "text/plain": [
       "array([[1., 0., 0.],\n",
       "       [1., 0., 0.],\n",
       "       [0., 1., 0.],\n",
       "       [1., 0., 0.],\n",
       "       [1., 0., 0.]], dtype=float32)"
      ]
     },
     "execution_count": 17,
     "metadata": {},
     "output_type": "execute_result"
    }
   ],
   "source": [
    "y_train[:5]"
   ]
  },
  {
   "cell_type": "code",
   "execution_count": 18,
   "metadata": {},
   "outputs": [
    {
     "data": {
      "text/plain": [
       "(120, 3)"
      ]
     },
     "execution_count": 18,
     "metadata": {},
     "output_type": "execute_result"
    }
   ],
   "source": [
    "y_train.shape"
   ]
  },
  {
   "cell_type": "markdown",
   "metadata": {},
   "source": [
    "# Modelo de MLP\r\n",
    "\r\n",
    "## Criando o modelo"
   ]
  },
  {
   "cell_type": "code",
   "execution_count": 64,
   "metadata": {},
   "outputs": [
    {
     "name": "stdout",
     "output_type": "stream",
     "text": [
      "Model: \"sequential_6\"\n",
      "_________________________________________________________________\n",
      "Layer (type)                 Output Shape              Param #   \n",
      "=================================================================\n",
      "dense_15 (Dense)             (None, 8)                 40        \n",
      "_________________________________________________________________\n",
      "dense_16 (Dense)             (None, 3)                 27        \n",
      "=================================================================\n",
      "Total params: 67\n",
      "Trainable params: 67\n",
      "Non-trainable params: 0\n",
      "_________________________________________________________________\n",
      "None\n"
     ]
    }
   ],
   "source": [
    "model = Sequential()\r\n",
    "model.add(Dense(8, input_dim=num_features, activation='relu'))\r\n",
    "model.add(Dense(num_classes , activation='softmax'))\r\n",
    "print(model.summary())"
   ]
  },
  {
   "cell_type": "code",
   "execution_count": 65,
   "metadata": {},
   "outputs": [
    {
     "data": {
      "image/png": "[encoded data removed]",
      "text/plain": [
       "<IPython.core.display.Image object>"
      ]
     },
     "execution_count": 65,
     "metadata": {},
     "output_type": "execute_result"
    }
   ],
   "source": [
    "plot_model(model, show_shapes=True, show_layer_names=True)"
   ]
  },
  {
   "cell_type": "markdown",
   "metadata": {},
   "source": [
    "## Compilando e treinando o modelo. \r\n",
    "### Vamos utilizar a função de Callback ModelCheckPointer para salvar o modelo com a melhor accuracia na base de validação (que é a mesma de teste final pois temos uma base muito pequena)"
   ]
  },
  {
   "cell_type": "code",
   "execution_count": 66,
   "metadata": {},
   "outputs": [],
   "source": [
    "model.compile(loss='categorical_crossentropy', optimizer='adam', metrics=['accuracy'])"
   ]
  },
  {
   "cell_type": "code",
   "execution_count": 67,
   "metadata": {},
   "outputs": [
    {
     "name": "stdout",
     "output_type": "stream",
     "text": [
      "Epoch 1/150\n",
      " 1/15 [=>............................] - ETA: 0s - loss: 1.0621 - accuracy: 0.6250WARNING:tensorflow:Callbacks method `on_train_batch_end` is slow compared to the batch time (batch time: 0.0000s vs `on_train_batch_end` time: 0.0010s). Check your callbacks.\n",
      "\n",
      "Epoch 00001: val_accuracy improved from -inf to 0.70000, saving model to .\\modelo_mlp_ex3_1.hdf5\n",
      "15/15 [==============================] - 0s 18ms/step - loss: 0.9319 - accuracy: 0.6500 - val_loss: 0.8695 - val_accuracy: 0.7000\n",
      "Epoch 2/150\n",
      " 1/15 [=>............................] - ETA: 0s - loss: 0.9086 - accuracy: 0.7500\n",
      "Epoch 00002: val_accuracy did not improve from 0.70000\n",
      "15/15 [==============================] - 0s 3ms/step - loss: 0.9041 - accuracy: 0.6500 - val_loss: 0.8489 - val_accuracy: 0.7000\n",
      "Epoch 3/150\n",
      " 1/15 [=>............................] - ETA: 0s - loss: 0.7126 - accuracy: 0.8750\n",
      "Epoch 00003: val_accuracy did not improve from 0.70000\n",
      "15/15 [==============================] - 0s 3ms/step - loss: 0.8822 - accuracy: 0.6500 - val_loss: 0.8305 - val_accuracy: 0.7000\n",
      "Epoch 4/150\n",
      " 1/15 [=>............................] - ETA: 0s - loss: 0.9587 - accuracy: 0.5000\n",
      "Epoch 00004: val_accuracy did not improve from 0.70000\n",
      "15/15 [==============================] - 0s 3ms/step - loss: 0.8622 - accuracy: 0.6500 - val_loss: 0.8143 - val_accuracy: 0.7000\n",
      "Epoch 5/150\n",
      " 1/15 [=>............................] - ETA: 0s - loss: 0.6662 - accuracy: 0.7500\n",
      "Epoch 00005: val_accuracy did not improve from 0.70000\n",
      "15/15 [==============================] - 0s 4ms/step - loss: 0.8444 - accuracy: 0.6583 - val_loss: 0.8001 - val_accuracy: 0.7000\n",
      "Epoch 6/150\n",
      " 1/15 [=>............................] - ETA: 0s - loss: 0.6057 - accuracy: 0.8750\n",
      "Epoch 00006: val_accuracy did not improve from 0.70000\n",
      "15/15 [==============================] - 0s 3ms/step - loss: 0.8280 - accuracy: 0.6583 - val_loss: 0.7859 - val_accuracy: 0.7000\n",
      "Epoch 7/150\n",
      " 1/15 [=>............................] - ETA: 0s - loss: 0.6821 - accuracy: 0.7500\n",
      "Epoch 00007: val_accuracy did not improve from 0.70000\n",
      "15/15 [==============================] - 0s 3ms/step - loss: 0.8124 - accuracy: 0.6583 - val_loss: 0.7729 - val_accuracy: 0.7000\n",
      "Epoch 8/150\n",
      " 1/15 [=>............................] - ETA: 0s - loss: 0.8847 - accuracy: 0.5000\n",
      "Epoch 00008: val_accuracy did not improve from 0.70000\n",
      "15/15 [==============================] - 0s 3ms/step - loss: 0.7975 - accuracy: 0.6583 - val_loss: 0.7592 - val_accuracy: 0.7000\n",
      "Epoch 9/150\n",
      " 1/15 [=>............................] - ETA: 0s - loss: 0.7804 - accuracy: 0.7500\n",
      "Epoch 00009: val_accuracy did not improve from 0.70000\n",
      "15/15 [==============================] - 0s 3ms/step - loss: 0.7823 - accuracy: 0.6583 - val_loss: 0.7467 - val_accuracy: 0.7000\n",
      "Epoch 10/150\n",
      " 1/15 [=>............................] - ETA: 0s - loss: 0.8623 - accuracy: 0.6250\n",
      "Epoch 00010: val_accuracy did not improve from 0.70000\n",
      "15/15 [==============================] - 0s 3ms/step - loss: 0.7685 - accuracy: 0.6583 - val_loss: 0.7333 - val_accuracy: 0.7000\n",
      "Epoch 11/150\n",
      " 1/15 [=>............................] - ETA: 0s - loss: 0.7232 - accuracy: 1.0000\n",
      "Epoch 00011: val_accuracy did not improve from 0.70000\n",
      "15/15 [==============================] - 0s 3ms/step - loss: 0.7536 - accuracy: 0.6583 - val_loss: 0.7197 - val_accuracy: 0.7000\n",
      "Epoch 12/150\n",
      " 1/15 [=>............................] - ETA: 0s - loss: 0.7235 - accuracy: 0.6250\n",
      "Epoch 00012: val_accuracy did not improve from 0.70000\n",
      "15/15 [==============================] - 0s 3ms/step - loss: 0.7388 - accuracy: 0.6583 - val_loss: 0.7068 - val_accuracy: 0.7000\n",
      "Epoch 13/150\n",
      " 1/15 [=>............................] - ETA: 0s - loss: 0.7756 - accuracy: 0.5000\n",
      "Epoch 00013: val_accuracy did not improve from 0.70000\n",
      "15/15 [==============================] - 0s 3ms/step - loss: 0.7243 - accuracy: 0.6583 - val_loss: 0.6934 - val_accuracy: 0.7000\n",
      "Epoch 14/150\n",
      " 1/15 [=>............................] - ETA: 0s - loss: 0.7257 - accuracy: 0.6250\n",
      "Epoch 00014: val_accuracy did not improve from 0.70000\n",
      "15/15 [==============================] - 0s 3ms/step - loss: 0.7097 - accuracy: 0.6583 - val_loss: 0.6796 - val_accuracy: 0.7000\n",
      "Epoch 15/150\n",
      " 1/15 [=>............................] - ETA: 0s - loss: 0.6692 - accuracy: 0.8750\n",
      "Epoch 00015: val_accuracy did not improve from 0.70000\n",
      "15/15 [==============================] - 0s 3ms/step - loss: 0.6960 - accuracy: 0.6583 - val_loss: 0.6652 - val_accuracy: 0.7000\n",
      "Epoch 16/150\n",
      " 1/15 [=>............................] - ETA: 0s - loss: 0.6176 - accuracy: 0.7500\n",
      "Epoch 00016: val_accuracy did not improve from 0.70000\n",
      "15/15 [==============================] - 0s 3ms/step - loss: 0.6794 - accuracy: 0.6583 - val_loss: 0.6519 - val_accuracy: 0.7000\n",
      "Epoch 17/150\n",
      " 1/15 [=>............................] - ETA: 0s - loss: 0.7553 - accuracy: 0.5000\n",
      "Epoch 00017: val_accuracy did not improve from 0.70000\n",
      "15/15 [==============================] - 0s 3ms/step - loss: 0.6653 - accuracy: 0.6583 - val_loss: 0.6375 - val_accuracy: 0.7000\n",
      "Epoch 18/150\n",
      " 1/15 [=>............................] - ETA: 0s - loss: 0.7540 - accuracy: 0.5000\n",
      "Epoch 00018: val_accuracy did not improve from 0.70000\n",
      "15/15 [==============================] - 0s 3ms/step - loss: 0.6482 - accuracy: 0.6583 - val_loss: 0.6178 - val_accuracy: 0.7000\n",
      "Epoch 19/150\n",
      " 1/15 [=>............................] - ETA: 0s - loss: 0.6876 - accuracy: 0.6250\n",
      "Epoch 00019: val_accuracy improved from 0.70000 to 0.73333, saving model to .\\modelo_mlp_ex3_1.hdf5\n",
      "15/15 [==============================] - 0s 10ms/step - loss: 0.6249 - accuracy: 0.6750 - val_loss: 0.5970 - val_accuracy: 0.7333\n",
      "Epoch 20/150\n",
      " 1/15 [=>............................] - ETA: 0s - loss: 0.6721 - accuracy: 0.6250\n",
      "Epoch 00020: val_accuracy did not improve from 0.73333\n",
      "15/15 [==============================] - 0s 3ms/step - loss: 0.6063 - accuracy: 0.7250 - val_loss: 0.5841 - val_accuracy: 0.7333\n",
      "Epoch 21/150\n",
      " 1/15 [=>............................] - ETA: 0s - loss: 0.5685 - accuracy: 0.8750\n",
      "Epoch 00021: val_accuracy did not improve from 0.73333\n",
      "15/15 [==============================] - 0s 3ms/step - loss: 0.5917 - accuracy: 0.7417 - val_loss: 0.5714 - val_accuracy: 0.7333\n",
      "Epoch 22/150\n",
      " 1/15 [=>............................] - ETA: 0s - loss: 0.6776 - accuracy: 0.6250\n",
      "Epoch 00022: val_accuracy improved from 0.73333 to 0.76667, saving model to .\\modelo_mlp_ex3_1.hdf5\n",
      "15/15 [==============================] - 0s 4ms/step - loss: 0.5791 - accuracy: 0.7417 - val_loss: 0.5588 - val_accuracy: 0.7667\n",
      "Epoch 23/150\n",
      " 1/15 [=>............................] - ETA: 0s - loss: 0.7326 - accuracy: 0.5000\n",
      "Epoch 00023: val_accuracy improved from 0.76667 to 0.80000, saving model to .\\modelo_mlp_ex3_1.hdf5\n",
      "15/15 [==============================] - 0s 4ms/step - loss: 0.5668 - accuracy: 0.7417 - val_loss: 0.5480 - val_accuracy: 0.8000\n",
      "Epoch 24/150\n",
      " 1/15 [=>............................] - ETA: 0s - loss: 0.6760 - accuracy: 0.6250\n",
      "Epoch 00024: val_accuracy improved from 0.80000 to 0.90000, saving model to .\\modelo_mlp_ex3_1.hdf5\n",
      "15/15 [==============================] - 0s 4ms/step - loss: 0.5560 - accuracy: 0.7833 - val_loss: 0.5374 - val_accuracy: 0.9000\n",
      "Epoch 25/150\n",
      " 1/15 [=>............................] - ETA: 0s - loss: 0.5031 - accuracy: 0.8750\n",
      "Epoch 00025: val_accuracy did not improve from 0.90000\n",
      "15/15 [==============================] - 0s 3ms/step - loss: 0.5460 - accuracy: 0.8583 - val_loss: 0.5272 - val_accuracy: 0.9000\n",
      "Epoch 26/150\n",
      " 1/15 [=>............................] - ETA: 0s - loss: 0.5516 - accuracy: 0.8750\n",
      "Epoch 00026: val_accuracy did not improve from 0.90000\n",
      "15/15 [==============================] - 0s 3ms/step - loss: 0.5363 - accuracy: 0.8000 - val_loss: 0.5161 - val_accuracy: 0.8000\n",
      "Epoch 27/150\n",
      " 1/15 [=>............................] - ETA: 0s - loss: 0.5569 - accuracy: 0.7500\n",
      "Epoch 00027: val_accuracy did not improve from 0.90000\n",
      "15/15 [==============================] - 0s 3ms/step - loss: 0.5255 - accuracy: 0.7917 - val_loss: 0.5072 - val_accuracy: 0.9000\n",
      "Epoch 28/150\n",
      " 1/15 [=>............................] - ETA: 0s - loss: 0.5815 - accuracy: 0.8750\n",
      "Epoch 00028: val_accuracy did not improve from 0.90000\n",
      "15/15 [==============================] - 0s 3ms/step - loss: 0.5168 - accuracy: 0.8750 - val_loss: 0.4988 - val_accuracy: 0.9000\n",
      "Epoch 29/150\n",
      " 1/15 [=>............................] - ETA: 0s - loss: 0.3891 - accuracy: 0.8750\n",
      "Epoch 00029: val_accuracy did not improve from 0.90000\n",
      "15/15 [==============================] - 0s 3ms/step - loss: 0.5090 - accuracy: 0.8750 - val_loss: 0.4904 - val_accuracy: 0.9000\n",
      "Epoch 30/150\n",
      " 1/15 [=>............................] - ETA: 0s - loss: 0.6534 - accuracy: 0.6250\n",
      "Epoch 00030: val_accuracy did not improve from 0.90000\n",
      "15/15 [==============================] - 0s 3ms/step - loss: 0.5003 - accuracy: 0.8833 - val_loss: 0.4828 - val_accuracy: 0.9000\n",
      "Epoch 31/150\n",
      " 1/15 [=>............................] - ETA: 0s - loss: 0.5471 - accuracy: 0.7500\n",
      "Epoch 00031: val_accuracy did not improve from 0.90000\n",
      "15/15 [==============================] - 0s 3ms/step - loss: 0.4929 - accuracy: 0.8750 - val_loss: 0.4751 - val_accuracy: 0.9000\n",
      "Epoch 32/150\n",
      " 1/15 [=>............................] - ETA: 0s - loss: 0.4569 - accuracy: 1.0000\n",
      "Epoch 00032: val_accuracy did not improve from 0.90000\n",
      "15/15 [==============================] - 0s 3ms/step - loss: 0.4872 - accuracy: 0.8750 - val_loss: 0.4673 - val_accuracy: 0.9000\n",
      "Epoch 33/150\n",
      " 1/15 [=>............................] - ETA: 0s - loss: 0.4554 - accuracy: 0.8750\n",
      "Epoch 00033: val_accuracy did not improve from 0.90000\n",
      "15/15 [==============================] - 0s 3ms/step - loss: 0.4788 - accuracy: 0.8750 - val_loss: 0.4609 - val_accuracy: 0.9000\n",
      "Epoch 34/150\n",
      " 1/15 [=>............................] - ETA: 0s - loss: 0.4991 - accuracy: 0.8750\n",
      "Epoch 00034: val_accuracy did not improve from 0.90000\n",
      "15/15 [==============================] - 0s 3ms/step - loss: 0.4728 - accuracy: 0.9083 - val_loss: 0.4555 - val_accuracy: 0.9000\n",
      "Epoch 35/150\n",
      " 1/15 [=>............................] - ETA: 0s - loss: 0.4530 - accuracy: 0.8750\n",
      "Epoch 00035: val_accuracy did not improve from 0.90000\n",
      "15/15 [==============================] - 0s 3ms/step - loss: 0.4666 - accuracy: 0.9083 - val_loss: 0.4487 - val_accuracy: 0.9000\n",
      "Epoch 36/150\n",
      " 1/15 [=>............................] - ETA: 0s - loss: 0.5332 - accuracy: 0.8750\n",
      "Epoch 00036: val_accuracy improved from 0.90000 to 0.93333, saving model to .\\modelo_mlp_ex3_1.hdf5\n",
      "15/15 [==============================] - 0s 4ms/step - loss: 0.4606 - accuracy: 0.9083 - val_loss: 0.4430 - val_accuracy: 0.9333\n",
      "Epoch 37/150\n",
      " 1/15 [=>............................] - ETA: 0s - loss: 0.3723 - accuracy: 0.8750\n",
      "Epoch 00037: val_accuracy did not improve from 0.93333\n",
      "15/15 [==============================] - 0s 3ms/step - loss: 0.4548 - accuracy: 0.9250 - val_loss: 0.4374 - val_accuracy: 0.9000\n",
      "Epoch 38/150\n",
      " 1/15 [=>............................] - ETA: 0s - loss: 0.4779 - accuracy: 1.0000\n",
      "Epoch 00038: val_accuracy did not improve from 0.93333\n",
      "15/15 [==============================] - 0s 3ms/step - loss: 0.4494 - accuracy: 0.9250 - val_loss: 0.4319 - val_accuracy: 0.9000\n",
      "Epoch 39/150\n",
      " 1/15 [=>............................] - ETA: 0s - loss: 0.4872 - accuracy: 0.8750\n",
      "Epoch 00039: val_accuracy did not improve from 0.93333\n",
      "15/15 [==============================] - 0s 3ms/step - loss: 0.4442 - accuracy: 0.9250 - val_loss: 0.4271 - val_accuracy: 0.9333\n",
      "Epoch 40/150\n",
      " 1/15 [=>............................] - ETA: 0s - loss: 0.3997 - accuracy: 1.0000\n",
      "Epoch 00040: val_accuracy did not improve from 0.93333\n",
      "15/15 [==============================] - 0s 3ms/step - loss: 0.4394 - accuracy: 0.9250 - val_loss: 0.4222 - val_accuracy: 0.9333\n",
      "Epoch 41/150\n",
      " 1/15 [=>............................] - ETA: 0s - loss: 0.5378 - accuracy: 1.0000\n",
      "Epoch 00041: val_accuracy did not improve from 0.93333\n",
      "15/15 [==============================] - 0s 3ms/step - loss: 0.4344 - accuracy: 0.9333 - val_loss: 0.4173 - val_accuracy: 0.9333\n",
      "Epoch 42/150\n",
      " 1/15 [=>............................] - ETA: 0s - loss: 0.4887 - accuracy: 1.0000\n",
      "Epoch 00042: val_accuracy did not improve from 0.93333\n",
      "15/15 [==============================] - 0s 4ms/step - loss: 0.4298 - accuracy: 0.9250 - val_loss: 0.4123 - val_accuracy: 0.9333\n",
      "Epoch 43/150\n",
      " 1/15 [=>............................] - ETA: 0s - loss: 0.3437 - accuracy: 1.0000\n",
      "Epoch 00043: val_accuracy did not improve from 0.93333\n",
      "15/15 [==============================] - 0s 3ms/step - loss: 0.4254 - accuracy: 0.9333 - val_loss: 0.4081 - val_accuracy: 0.9333\n",
      "Epoch 44/150\n",
      " 1/15 [=>............................] - ETA: 0s - loss: 0.4602 - accuracy: 0.8750\n",
      "Epoch 00044: val_accuracy did not improve from 0.93333\n",
      "15/15 [==============================] - 0s 3ms/step - loss: 0.4217 - accuracy: 0.9417 - val_loss: 0.4042 - val_accuracy: 0.9333\n",
      "Epoch 45/150\n",
      " 1/15 [=>............................] - ETA: 0s - loss: 0.3655 - accuracy: 1.0000\n",
      "Epoch 00045: val_accuracy did not improve from 0.93333\n",
      "15/15 [==============================] - 0s 3ms/step - loss: 0.4169 - accuracy: 0.9333 - val_loss: 0.3994 - val_accuracy: 0.9333\n",
      "Epoch 46/150\n",
      " 1/15 [=>............................] - ETA: 0s - loss: 0.5003 - accuracy: 0.8750\n",
      "Epoch 00046: val_accuracy did not improve from 0.93333\n",
      "15/15 [==============================] - 0s 3ms/step - loss: 0.4143 - accuracy: 0.9333 - val_loss: 0.3949 - val_accuracy: 0.9333\n",
      "Epoch 47/150\n",
      " 1/15 [=>............................] - ETA: 0s - loss: 0.4469 - accuracy: 1.0000\n",
      "Epoch 00047: val_accuracy did not improve from 0.93333\n",
      "15/15 [==============================] - 0s 3ms/step - loss: 0.4085 - accuracy: 0.9333 - val_loss: 0.3911 - val_accuracy: 0.9333\n",
      "Epoch 48/150\n",
      " 1/15 [=>............................] - ETA: 0s - loss: 0.4618 - accuracy: 0.7500\n",
      "Epoch 00048: val_accuracy did not improve from 0.93333\n",
      "15/15 [==============================] - 0s 3ms/step - loss: 0.4053 - accuracy: 0.9500 - val_loss: 0.3881 - val_accuracy: 0.9333\n",
      "Epoch 49/150\n",
      " 1/15 [=>............................] - ETA: 0s - loss: 0.3315 - accuracy: 1.0000\n",
      "Epoch 00049: val_accuracy did not improve from 0.93333\n",
      "15/15 [==============================] - 0s 3ms/step - loss: 0.4010 - accuracy: 0.9500 - val_loss: 0.3842 - val_accuracy: 0.9333\n",
      "Epoch 50/150\n",
      " 1/15 [=>............................] - ETA: 0s - loss: 0.4371 - accuracy: 0.8750\n",
      "Epoch 00050: val_accuracy did not improve from 0.93333\n",
      "15/15 [==============================] - 0s 3ms/step - loss: 0.3973 - accuracy: 0.9500 - val_loss: 0.3806 - val_accuracy: 0.9333\n",
      "Epoch 51/150\n",
      " 1/15 [=>............................] - ETA: 0s - loss: 0.4319 - accuracy: 1.0000\n",
      "Epoch 00051: val_accuracy did not improve from 0.93333\n",
      "15/15 [==============================] - 0s 3ms/step - loss: 0.3935 - accuracy: 0.9500 - val_loss: 0.3770 - val_accuracy: 0.9333\n",
      "Epoch 52/150\n",
      " 1/15 [=>............................] - ETA: 0s - loss: 0.4184 - accuracy: 1.0000\n",
      "Epoch 00052: val_accuracy did not improve from 0.93333\n",
      "15/15 [==============================] - 0s 3ms/step - loss: 0.3902 - accuracy: 0.9500 - val_loss: 0.3732 - val_accuracy: 0.9333\n",
      "Epoch 53/150\n",
      " 1/15 [=>............................] - ETA: 0s - loss: 0.3701 - accuracy: 1.0000\n",
      "Epoch 00053: val_accuracy did not improve from 0.93333\n",
      "15/15 [==============================] - 0s 3ms/step - loss: 0.3866 - accuracy: 0.9500 - val_loss: 0.3695 - val_accuracy: 0.9333\n",
      "Epoch 54/150\n",
      " 1/15 [=>............................] - ETA: 0s - loss: 0.4965 - accuracy: 1.0000\n",
      "Epoch 00054: val_accuracy did not improve from 0.93333\n",
      "15/15 [==============================] - 0s 3ms/step - loss: 0.3839 - accuracy: 0.9500 - val_loss: 0.3666 - val_accuracy: 0.9333\n",
      "Epoch 55/150\n",
      " 1/15 [=>............................] - ETA: 0s - loss: 0.3142 - accuracy: 1.0000\n",
      "Epoch 00055: val_accuracy did not improve from 0.93333\n",
      "15/15 [==============================] - 0s 4ms/step - loss: 0.3799 - accuracy: 0.9500 - val_loss: 0.3632 - val_accuracy: 0.9333\n",
      "Epoch 56/150\n",
      " 1/15 [=>............................] - ETA: 0s - loss: 0.4097 - accuracy: 1.0000\n",
      "Epoch 00056: val_accuracy did not improve from 0.93333\n",
      "15/15 [==============================] - 0s 3ms/step - loss: 0.3761 - accuracy: 0.9500 - val_loss: 0.3596 - val_accuracy: 0.9333\n",
      "Epoch 57/150\n",
      " 1/15 [=>............................] - ETA: 0s - loss: 0.4524 - accuracy: 1.0000\n",
      "Epoch 00057: val_accuracy did not improve from 0.93333\n",
      "15/15 [==============================] - 0s 3ms/step - loss: 0.3732 - accuracy: 0.9500 - val_loss: 0.3561 - val_accuracy: 0.9333\n",
      "Epoch 58/150\n",
      " 1/15 [=>............................] - ETA: 0s - loss: 0.3946 - accuracy: 1.0000\n",
      "Epoch 00058: val_accuracy did not improve from 0.93333\n",
      "15/15 [==============================] - 0s 3ms/step - loss: 0.3701 - accuracy: 0.9500 - val_loss: 0.3531 - val_accuracy: 0.9333\n",
      "Epoch 59/150\n",
      " 1/15 [=>............................] - ETA: 0s - loss: 0.3396 - accuracy: 0.8750\n",
      "Epoch 00059: val_accuracy did not improve from 0.93333\n",
      "15/15 [==============================] - 0s 3ms/step - loss: 0.3667 - accuracy: 0.9583 - val_loss: 0.3500 - val_accuracy: 0.9333\n",
      "Epoch 60/150\n",
      " 1/15 [=>............................] - ETA: 0s - loss: 0.4235 - accuracy: 0.8750\n",
      "Epoch 00060: val_accuracy did not improve from 0.93333\n",
      "15/15 [==============================] - 0s 3ms/step - loss: 0.3633 - accuracy: 0.9583 - val_loss: 0.3470 - val_accuracy: 0.9333\n",
      "Epoch 61/150\n",
      " 1/15 [=>............................] - ETA: 0s - loss: 0.3389 - accuracy: 1.0000\n",
      "Epoch 00061: val_accuracy did not improve from 0.93333\n",
      "15/15 [==============================] - 0s 3ms/step - loss: 0.3599 - accuracy: 0.9583 - val_loss: 0.3439 - val_accuracy: 0.9333\n",
      "Epoch 62/150\n",
      " 1/15 [=>............................] - ETA: 0s - loss: 0.1728 - accuracy: 1.0000\n",
      "Epoch 00062: val_accuracy did not improve from 0.93333\n",
      "15/15 [==============================] - 0s 3ms/step - loss: 0.3571 - accuracy: 0.9583 - val_loss: 0.3410 - val_accuracy: 0.9333\n",
      "Epoch 63/150\n",
      " 1/15 [=>............................] - ETA: 0s - loss: 0.4290 - accuracy: 1.0000\n",
      "Epoch 00063: val_accuracy improved from 0.93333 to 0.96667, saving model to .\\modelo_mlp_ex3_1.hdf5\n",
      "15/15 [==============================] - 0s 5ms/step - loss: 0.3545 - accuracy: 0.9583 - val_loss: 0.3380 - val_accuracy: 0.9667\n",
      "Epoch 64/150\n",
      " 1/15 [=>............................] - ETA: 0s - loss: 0.2908 - accuracy: 1.0000\n",
      "Epoch 00064: val_accuracy did not improve from 0.96667\n",
      "15/15 [==============================] - 0s 3ms/step - loss: 0.3508 - accuracy: 0.9583 - val_loss: 0.3348 - val_accuracy: 0.9333\n",
      "Epoch 65/150\n",
      " 1/15 [=>............................] - ETA: 0s - loss: 0.2005 - accuracy: 1.0000\n",
      "Epoch 00065: val_accuracy did not improve from 0.96667\n",
      "15/15 [==============================] - 0s 3ms/step - loss: 0.3481 - accuracy: 0.9583 - val_loss: 0.3318 - val_accuracy: 0.9333\n",
      "Epoch 66/150\n",
      " 1/15 [=>............................] - ETA: 0s - loss: 0.2758 - accuracy: 1.0000\n",
      "Epoch 00066: val_accuracy did not improve from 0.96667\n",
      "15/15 [==============================] - 0s 3ms/step - loss: 0.3449 - accuracy: 0.9583 - val_loss: 0.3287 - val_accuracy: 0.9333\n",
      "Epoch 67/150\n",
      " 1/15 [=>............................] - ETA: 0s - loss: 0.3373 - accuracy: 0.8750\n",
      "Epoch 00067: val_accuracy did not improve from 0.96667\n",
      "15/15 [==============================] - 0s 3ms/step - loss: 0.3422 - accuracy: 0.9583 - val_loss: 0.3261 - val_accuracy: 0.9667\n",
      "Epoch 68/150\n",
      " 1/15 [=>............................] - ETA: 0s - loss: 0.2865 - accuracy: 0.8750\n",
      "Epoch 00068: val_accuracy did not improve from 0.96667\n",
      "15/15 [==============================] - 0s 5ms/step - loss: 0.3402 - accuracy: 0.9583 - val_loss: 0.3230 - val_accuracy: 0.9333\n",
      "Epoch 69/150\n",
      " 1/15 [=>............................] - ETA: 0s - loss: 0.2837 - accuracy: 1.0000\n",
      "Epoch 00069: val_accuracy did not improve from 0.96667\n",
      "15/15 [==============================] - 0s 3ms/step - loss: 0.3362 - accuracy: 0.9583 - val_loss: 0.3203 - val_accuracy: 0.9667\n",
      "Epoch 70/150\n",
      " 1/15 [=>............................] - ETA: 0s - loss: 0.3557 - accuracy: 1.0000\n",
      "Epoch 00070: val_accuracy did not improve from 0.96667\n",
      "15/15 [==============================] - 0s 3ms/step - loss: 0.3336 - accuracy: 0.9583 - val_loss: 0.3177 - val_accuracy: 0.9667\n",
      "Epoch 71/150\n",
      " 1/15 [=>............................] - ETA: 0s - loss: 0.4461 - accuracy: 1.0000\n",
      "Epoch 00071: val_accuracy did not improve from 0.96667\n",
      "15/15 [==============================] - 0s 3ms/step - loss: 0.3311 - accuracy: 0.9583 - val_loss: 0.3145 - val_accuracy: 0.9667\n",
      "Epoch 72/150\n",
      " 1/15 [=>............................] - ETA: 0s - loss: 0.3245 - accuracy: 0.8750\n",
      "Epoch 00072: val_accuracy did not improve from 0.96667\n",
      "15/15 [==============================] - 0s 3ms/step - loss: 0.3287 - accuracy: 0.9667 - val_loss: 0.3122 - val_accuracy: 0.9667\n",
      "Epoch 73/150\n",
      " 1/15 [=>............................] - ETA: 0s - loss: 0.4195 - accuracy: 0.8750\n",
      "Epoch 00073: val_accuracy did not improve from 0.96667\n",
      "15/15 [==============================] - 0s 4ms/step - loss: 0.3248 - accuracy: 0.9667 - val_loss: 0.3093 - val_accuracy: 0.9667\n",
      "Epoch 74/150\n",
      " 1/15 [=>............................] - ETA: 0s - loss: 0.3283 - accuracy: 1.0000\n",
      "Epoch 00074: val_accuracy did not improve from 0.96667\n",
      "15/15 [==============================] - 0s 3ms/step - loss: 0.3223 - accuracy: 0.9583 - val_loss: 0.3065 - val_accuracy: 0.9667\n",
      "Epoch 75/150\n",
      " 1/15 [=>............................] - ETA: 0s - loss: 0.2976 - accuracy: 0.8750\n",
      "Epoch 00075: val_accuracy did not improve from 0.96667\n",
      "15/15 [==============================] - 0s 3ms/step - loss: 0.3210 - accuracy: 0.9583 - val_loss: 0.3038 - val_accuracy: 0.9667\n",
      "Epoch 76/150\n",
      " 1/15 [=>............................] - ETA: 0s - loss: 0.4431 - accuracy: 1.0000\n",
      "Epoch 00076: val_accuracy did not improve from 0.96667\n",
      "15/15 [==============================] - 0s 3ms/step - loss: 0.3168 - accuracy: 0.9583 - val_loss: 0.3015 - val_accuracy: 0.9667\n",
      "Epoch 77/150\n",
      " 1/15 [=>............................] - ETA: 0s - loss: 0.2945 - accuracy: 1.0000\n",
      "Epoch 00077: val_accuracy did not improve from 0.96667\n",
      "15/15 [==============================] - 0s 3ms/step - loss: 0.3144 - accuracy: 0.9583 - val_loss: 0.2987 - val_accuracy: 0.9667\n",
      "Epoch 78/150\n",
      " 1/15 [=>............................] - ETA: 0s - loss: 0.2546 - accuracy: 1.0000\n",
      "Epoch 00078: val_accuracy did not improve from 0.96667\n",
      "15/15 [==============================] - 0s 3ms/step - loss: 0.3117 - accuracy: 0.9667 - val_loss: 0.2962 - val_accuracy: 0.9667\n",
      "Epoch 79/150\n",
      " 1/15 [=>............................] - ETA: 0s - loss: 0.3680 - accuracy: 1.0000\n",
      "Epoch 00079: val_accuracy did not improve from 0.96667\n",
      "15/15 [==============================] - 0s 3ms/step - loss: 0.3087 - accuracy: 0.9667 - val_loss: 0.2938 - val_accuracy: 0.9667\n",
      "Epoch 80/150\n",
      " 1/15 [=>............................] - ETA: 0s - loss: 0.3514 - accuracy: 0.8750\n",
      "Epoch 00080: val_accuracy did not improve from 0.96667\n",
      "15/15 [==============================] - 0s 3ms/step - loss: 0.3064 - accuracy: 0.9667 - val_loss: 0.2915 - val_accuracy: 0.9667\n",
      "Epoch 81/150\n",
      " 1/15 [=>............................] - ETA: 0s - loss: 0.2676 - accuracy: 1.0000\n",
      "Epoch 00081: val_accuracy did not improve from 0.96667\n",
      "15/15 [==============================] - 0s 3ms/step - loss: 0.3035 - accuracy: 0.9667 - val_loss: 0.2886 - val_accuracy: 0.9667\n",
      "Epoch 82/150\n",
      " 1/15 [=>............................] - ETA: 0s - loss: 0.2034 - accuracy: 1.0000\n",
      "Epoch 00082: val_accuracy did not improve from 0.96667\n",
      "15/15 [==============================] - 0s 3ms/step - loss: 0.3013 - accuracy: 0.9667 - val_loss: 0.2861 - val_accuracy: 0.9667\n",
      "Epoch 83/150\n",
      " 1/15 [=>............................] - ETA: 0s - loss: 0.3213 - accuracy: 1.0000\n",
      "Epoch 00083: val_accuracy did not improve from 0.96667\n",
      "15/15 [==============================] - 0s 3ms/step - loss: 0.2996 - accuracy: 0.9583 - val_loss: 0.2837 - val_accuracy: 0.9667\n",
      "Epoch 84/150\n",
      " 1/15 [=>............................] - ETA: 0s - loss: 0.2881 - accuracy: 1.0000\n",
      "Epoch 00084: val_accuracy did not improve from 0.96667\n",
      "15/15 [==============================] - 0s 3ms/step - loss: 0.2969 - accuracy: 0.9583 - val_loss: 0.2816 - val_accuracy: 0.9667\n",
      "Epoch 85/150\n",
      " 1/15 [=>............................] - ETA: 0s - loss: 0.2191 - accuracy: 1.0000\n",
      "Epoch 00085: val_accuracy did not improve from 0.96667\n",
      "15/15 [==============================] - 0s 3ms/step - loss: 0.2937 - accuracy: 0.9583 - val_loss: 0.2791 - val_accuracy: 0.9667\n",
      "Epoch 86/150\n",
      " 1/15 [=>............................] - ETA: 0s - loss: 0.2284 - accuracy: 1.0000\n",
      "Epoch 00086: val_accuracy did not improve from 0.96667\n",
      "15/15 [==============================] - 0s 3ms/step - loss: 0.2927 - accuracy: 0.9667 - val_loss: 0.2768 - val_accuracy: 0.9667\n",
      "Epoch 87/150\n",
      " 1/15 [=>............................] - ETA: 0s - loss: 0.2362 - accuracy: 1.0000\n",
      "Epoch 00087: val_accuracy did not improve from 0.96667\n",
      "15/15 [==============================] - 0s 3ms/step - loss: 0.2888 - accuracy: 0.9583 - val_loss: 0.2746 - val_accuracy: 0.9667\n",
      "Epoch 88/150\n",
      " 1/15 [=>............................] - ETA: 0s - loss: 0.2518 - accuracy: 1.0000\n",
      "Epoch 00088: val_accuracy did not improve from 0.96667\n",
      "15/15 [==============================] - 0s 4ms/step - loss: 0.2870 - accuracy: 0.9583 - val_loss: 0.2725 - val_accuracy: 0.9667\n",
      "Epoch 89/150\n",
      " 1/15 [=>............................] - ETA: 0s - loss: 0.2771 - accuracy: 1.0000\n",
      "Epoch 00089: val_accuracy did not improve from 0.96667\n",
      "15/15 [==============================] - 0s 3ms/step - loss: 0.2841 - accuracy: 0.9583 - val_loss: 0.2700 - val_accuracy: 0.9667\n",
      "Epoch 90/150\n",
      " 1/15 [=>............................] - ETA: 0s - loss: 0.2427 - accuracy: 1.0000\n",
      "Epoch 00090: val_accuracy did not improve from 0.96667\n",
      "15/15 [==============================] - 0s 3ms/step - loss: 0.2817 - accuracy: 0.9583 - val_loss: 0.2678 - val_accuracy: 0.9667\n",
      "Epoch 91/150\n",
      " 1/15 [=>............................] - ETA: 0s - loss: 0.1395 - accuracy: 1.0000\n",
      "Epoch 00091: val_accuracy did not improve from 0.96667\n",
      "15/15 [==============================] - 0s 3ms/step - loss: 0.2801 - accuracy: 0.9583 - val_loss: 0.2656 - val_accuracy: 0.9667\n",
      "Epoch 92/150\n",
      " 1/15 [=>............................] - ETA: 0s - loss: 0.2467 - accuracy: 0.8750\n",
      "Epoch 00092: val_accuracy did not improve from 0.96667\n",
      "15/15 [==============================] - 0s 3ms/step - loss: 0.2775 - accuracy: 0.9583 - val_loss: 0.2634 - val_accuracy: 0.9667\n",
      "Epoch 93/150\n",
      " 1/15 [=>............................] - ETA: 0s - loss: 0.1649 - accuracy: 1.0000\n",
      "Epoch 00093: val_accuracy did not improve from 0.96667\n",
      "15/15 [==============================] - 0s 3ms/step - loss: 0.2754 - accuracy: 0.9583 - val_loss: 0.2613 - val_accuracy: 0.9667\n",
      "Epoch 94/150\n",
      " 1/15 [=>............................] - ETA: 0s - loss: 0.2958 - accuracy: 1.0000\n",
      "Epoch 00094: val_accuracy did not improve from 0.96667\n",
      "15/15 [==============================] - 0s 3ms/step - loss: 0.2726 - accuracy: 0.9583 - val_loss: 0.2591 - val_accuracy: 0.9667\n",
      "Epoch 95/150\n",
      " 1/15 [=>............................] - ETA: 0s - loss: 0.2998 - accuracy: 1.0000\n",
      "Epoch 00095: val_accuracy did not improve from 0.96667\n",
      "15/15 [==============================] - 0s 3ms/step - loss: 0.2707 - accuracy: 0.9583 - val_loss: 0.2571 - val_accuracy: 0.9667\n",
      "Epoch 96/150\n",
      " 1/15 [=>............................] - ETA: 0s - loss: 0.2489 - accuracy: 1.0000\n",
      "Epoch 00096: val_accuracy did not improve from 0.96667\n",
      "15/15 [==============================] - 0s 3ms/step - loss: 0.2695 - accuracy: 0.9583 - val_loss: 0.2551 - val_accuracy: 0.9667\n",
      "Epoch 97/150\n",
      " 1/15 [=>............................] - ETA: 0s - loss: 0.1554 - accuracy: 1.0000\n",
      "Epoch 00097: val_accuracy did not improve from 0.96667\n",
      "15/15 [==============================] - 0s 3ms/step - loss: 0.2662 - accuracy: 0.9667 - val_loss: 0.2529 - val_accuracy: 0.9667\n",
      "Epoch 98/150\n",
      " 1/15 [=>............................] - ETA: 0s - loss: 0.3386 - accuracy: 0.8750\n",
      "Epoch 00098: val_accuracy did not improve from 0.96667\n",
      "15/15 [==============================] - 0s 3ms/step - loss: 0.2643 - accuracy: 0.9583 - val_loss: 0.2510 - val_accuracy: 0.9667\n",
      "Epoch 99/150\n",
      " 1/15 [=>............................] - ETA: 0s - loss: 0.3355 - accuracy: 0.7500\n",
      "Epoch 00099: val_accuracy did not improve from 0.96667\n",
      "15/15 [==============================] - 0s 3ms/step - loss: 0.2618 - accuracy: 0.9583 - val_loss: 0.2489 - val_accuracy: 0.9667\n",
      "Epoch 100/150\n",
      " 1/15 [=>............................] - ETA: 0s - loss: 0.1642 - accuracy: 1.0000\n",
      "Epoch 00100: val_accuracy did not improve from 0.96667\n",
      "15/15 [==============================] - 0s 3ms/step - loss: 0.2598 - accuracy: 0.9583 - val_loss: 0.2468 - val_accuracy: 0.9667\n",
      "Epoch 101/150\n",
      " 1/15 [=>............................] - ETA: 0s - loss: 0.2501 - accuracy: 1.0000\n",
      "Epoch 00101: val_accuracy did not improve from 0.96667\n",
      "15/15 [==============================] - 0s 3ms/step - loss: 0.2585 - accuracy: 0.9583 - val_loss: 0.2450 - val_accuracy: 0.9667\n",
      "Epoch 102/150\n",
      " 1/15 [=>............................] - ETA: 0s - loss: 0.1973 - accuracy: 1.0000\n",
      "Epoch 00102: val_accuracy did not improve from 0.96667\n",
      "15/15 [==============================] - 0s 3ms/step - loss: 0.2556 - accuracy: 0.9583 - val_loss: 0.2429 - val_accuracy: 0.9667\n",
      "Epoch 103/150\n",
      " 1/15 [=>............................] - ETA: 0s - loss: 0.2582 - accuracy: 1.0000\n",
      "Epoch 00103: val_accuracy did not improve from 0.96667\n",
      "15/15 [==============================] - 0s 3ms/step - loss: 0.2536 - accuracy: 0.9583 - val_loss: 0.2410 - val_accuracy: 0.9667\n",
      "Epoch 104/150\n",
      " 1/15 [=>............................] - ETA: 0s - loss: 0.1986 - accuracy: 1.0000\n",
      "Epoch 00104: val_accuracy did not improve from 0.96667\n",
      "15/15 [==============================] - 0s 3ms/step - loss: 0.2517 - accuracy: 0.9583 - val_loss: 0.2391 - val_accuracy: 0.9667\n",
      "Epoch 105/150\n",
      " 1/15 [=>............................] - ETA: 0s - loss: 0.1975 - accuracy: 1.0000\n",
      "Epoch 00105: val_accuracy did not improve from 0.96667\n",
      "15/15 [==============================] - 0s 3ms/step - loss: 0.2498 - accuracy: 0.9583 - val_loss: 0.2372 - val_accuracy: 0.9667\n",
      "Epoch 106/150\n",
      " 1/15 [=>............................] - ETA: 0s - loss: 0.1740 - accuracy: 1.0000\n",
      "Epoch 00106: val_accuracy did not improve from 0.96667\n",
      "15/15 [==============================] - 0s 3ms/step - loss: 0.2477 - accuracy: 0.9583 - val_loss: 0.2353 - val_accuracy: 0.9667\n",
      "Epoch 107/150\n",
      " 1/15 [=>............................] - ETA: 0s - loss: 0.2905 - accuracy: 1.0000\n",
      "Epoch 00107: val_accuracy did not improve from 0.96667\n",
      "15/15 [==============================] - 0s 3ms/step - loss: 0.2459 - accuracy: 0.9583 - val_loss: 0.2335 - val_accuracy: 0.9667\n",
      "Epoch 108/150\n",
      " 1/15 [=>............................] - ETA: 0s - loss: 0.2693 - accuracy: 1.0000\n",
      "Epoch 00108: val_accuracy did not improve from 0.96667\n",
      "15/15 [==============================] - 0s 3ms/step - loss: 0.2443 - accuracy: 0.9583 - val_loss: 0.2320 - val_accuracy: 0.9667\n",
      "Epoch 109/150\n",
      " 1/15 [=>............................] - ETA: 0s - loss: 0.2668 - accuracy: 1.0000\n",
      "Epoch 00109: val_accuracy did not improve from 0.96667\n",
      "15/15 [==============================] - 0s 3ms/step - loss: 0.2422 - accuracy: 0.9583 - val_loss: 0.2300 - val_accuracy: 0.9667\n",
      "Epoch 110/150\n",
      " 1/15 [=>............................] - ETA: 0s - loss: 0.1733 - accuracy: 1.0000\n",
      "Epoch 00110: val_accuracy did not improve from 0.96667\n",
      "15/15 [==============================] - 0s 3ms/step - loss: 0.2400 - accuracy: 0.9583 - val_loss: 0.2282 - val_accuracy: 0.9667\n",
      "Epoch 111/150\n",
      " 1/15 [=>............................] - ETA: 0s - loss: 0.3079 - accuracy: 0.8750\n",
      "Epoch 00111: val_accuracy did not improve from 0.96667\n",
      "15/15 [==============================] - 0s 3ms/step - loss: 0.2384 - accuracy: 0.9583 - val_loss: 0.2265 - val_accuracy: 0.9667\n",
      "Epoch 112/150\n",
      " 1/15 [=>............................] - ETA: 0s - loss: 0.2431 - accuracy: 1.0000\n",
      "Epoch 00112: val_accuracy did not improve from 0.96667\n",
      "15/15 [==============================] - 0s 3ms/step - loss: 0.2363 - accuracy: 0.9583 - val_loss: 0.2248 - val_accuracy: 0.9667\n",
      "Epoch 113/150\n",
      " 1/15 [=>............................] - ETA: 0s - loss: 0.2239 - accuracy: 1.0000\n",
      "Epoch 00113: val_accuracy did not improve from 0.96667\n",
      "15/15 [==============================] - 0s 3ms/step - loss: 0.2344 - accuracy: 0.9583 - val_loss: 0.2231 - val_accuracy: 0.9667\n",
      "Epoch 114/150\n",
      " 1/15 [=>............................] - ETA: 0s - loss: 0.2761 - accuracy: 1.0000\n",
      "Epoch 00114: val_accuracy did not improve from 0.96667\n",
      "15/15 [==============================] - 0s 3ms/step - loss: 0.2335 - accuracy: 0.9583 - val_loss: 0.2213 - val_accuracy: 0.9667\n",
      "Epoch 115/150\n",
      " 1/15 [=>............................] - ETA: 0s - loss: 0.3465 - accuracy: 1.0000\n",
      "Epoch 00115: val_accuracy did not improve from 0.96667\n",
      "15/15 [==============================] - 0s 3ms/step - loss: 0.2311 - accuracy: 0.9583 - val_loss: 0.2197 - val_accuracy: 0.9667\n",
      "Epoch 116/150\n",
      " 1/15 [=>............................] - ETA: 0s - loss: 0.2696 - accuracy: 0.8750\n",
      "Epoch 00116: val_accuracy did not improve from 0.96667\n",
      "15/15 [==============================] - 0s 3ms/step - loss: 0.2295 - accuracy: 0.9583 - val_loss: 0.2184 - val_accuracy: 0.9667\n",
      "Epoch 117/150\n",
      " 1/15 [=>............................] - ETA: 0s - loss: 0.1272 - accuracy: 1.0000\n",
      "Epoch 00117: val_accuracy did not improve from 0.96667\n",
      "15/15 [==============================] - 0s 3ms/step - loss: 0.2274 - accuracy: 0.9583 - val_loss: 0.2164 - val_accuracy: 0.9667\n",
      "Epoch 118/150\n",
      " 1/15 [=>............................] - ETA: 0s - loss: 0.3919 - accuracy: 0.8750\n",
      "Epoch 00118: val_accuracy did not improve from 0.96667\n",
      "15/15 [==============================] - 0s 3ms/step - loss: 0.2258 - accuracy: 0.9583 - val_loss: 0.2148 - val_accuracy: 0.9667\n",
      "Epoch 119/150\n",
      " 1/15 [=>............................] - ETA: 0s - loss: 0.1999 - accuracy: 1.0000\n",
      "Epoch 00119: val_accuracy did not improve from 0.96667\n",
      "15/15 [==============================] - 0s 3ms/step - loss: 0.2240 - accuracy: 0.9583 - val_loss: 0.2131 - val_accuracy: 0.9667\n",
      "Epoch 120/150\n",
      " 1/15 [=>............................] - ETA: 0s - loss: 0.3332 - accuracy: 1.0000\n",
      "Epoch 00120: val_accuracy did not improve from 0.96667\n",
      "15/15 [==============================] - 0s 3ms/step - loss: 0.2224 - accuracy: 0.9583 - val_loss: 0.2117 - val_accuracy: 0.9667\n",
      "Epoch 121/150\n",
      " 1/15 [=>............................] - ETA: 0s - loss: 0.1829 - accuracy: 0.8750\n",
      "Epoch 00121: val_accuracy did not improve from 0.96667\n",
      "15/15 [==============================] - 0s 3ms/step - loss: 0.2209 - accuracy: 0.9583 - val_loss: 0.2102 - val_accuracy: 0.9667\n",
      "Epoch 122/150\n",
      " 1/15 [=>............................] - ETA: 0s - loss: 0.1848 - accuracy: 1.0000\n",
      "Epoch 00122: val_accuracy did not improve from 0.96667\n",
      "15/15 [==============================] - 0s 3ms/step - loss: 0.2189 - accuracy: 0.9583 - val_loss: 0.2086 - val_accuracy: 0.9667\n",
      "Epoch 123/150\n",
      " 1/15 [=>............................] - ETA: 0s - loss: 0.2080 - accuracy: 1.0000\n",
      "Epoch 00123: val_accuracy did not improve from 0.96667\n",
      "15/15 [==============================] - 0s 3ms/step - loss: 0.2182 - accuracy: 0.9583 - val_loss: 0.2074 - val_accuracy: 0.9667\n",
      "Epoch 124/150\n",
      " 1/15 [=>............................] - ETA: 0s - loss: 0.3660 - accuracy: 1.0000\n",
      "Epoch 00124: val_accuracy did not improve from 0.96667\n",
      "15/15 [==============================] - 0s 3ms/step - loss: 0.2155 - accuracy: 0.9583 - val_loss: 0.2056 - val_accuracy: 0.9667\n",
      "Epoch 125/150\n",
      " 1/15 [=>............................] - ETA: 0s - loss: 0.2291 - accuracy: 1.0000\n",
      "Epoch 00125: val_accuracy did not improve from 0.96667\n",
      "15/15 [==============================] - 0s 3ms/step - loss: 0.2142 - accuracy: 0.9583 - val_loss: 0.2041 - val_accuracy: 0.9667\n",
      "Epoch 126/150\n",
      " 1/15 [=>............................] - ETA: 0s - loss: 0.1657 - accuracy: 1.0000\n",
      "Epoch 00126: val_accuracy did not improve from 0.96667\n",
      "15/15 [==============================] - 0s 3ms/step - loss: 0.2128 - accuracy: 0.9667 - val_loss: 0.2026 - val_accuracy: 0.9667\n",
      "Epoch 127/150\n",
      " 1/15 [=>............................] - ETA: 0s - loss: 0.2094 - accuracy: 1.0000\n",
      "Epoch 00127: val_accuracy did not improve from 0.96667\n",
      "15/15 [==============================] - 0s 3ms/step - loss: 0.2118 - accuracy: 0.9583 - val_loss: 0.2015 - val_accuracy: 0.9667\n",
      "Epoch 128/150\n",
      " 1/15 [=>............................] - ETA: 0s - loss: 0.3048 - accuracy: 1.0000\n",
      "Epoch 00128: val_accuracy did not improve from 0.96667\n",
      "15/15 [==============================] - 0s 3ms/step - loss: 0.2099 - accuracy: 0.9583 - val_loss: 0.1998 - val_accuracy: 0.9667\n",
      "Epoch 129/150\n",
      " 1/15 [=>............................] - ETA: 0s - loss: 0.1919 - accuracy: 1.0000\n",
      "Epoch 00129: val_accuracy did not improve from 0.96667\n",
      "15/15 [==============================] - 0s 3ms/step - loss: 0.2088 - accuracy: 0.9583 - val_loss: 0.1988 - val_accuracy: 0.9667\n",
      "Epoch 130/150\n",
      " 1/15 [=>............................] - ETA: 0s - loss: 0.2476 - accuracy: 1.0000\n",
      "Epoch 00130: val_accuracy did not improve from 0.96667\n",
      "15/15 [==============================] - 0s 3ms/step - loss: 0.2072 - accuracy: 0.9583 - val_loss: 0.1975 - val_accuracy: 0.9667\n",
      "Epoch 131/150\n",
      " 1/15 [=>............................] - ETA: 0s - loss: 0.1563 - accuracy: 1.0000\n",
      "Epoch 00131: val_accuracy did not improve from 0.96667\n",
      "15/15 [==============================] - 0s 3ms/step - loss: 0.2063 - accuracy: 0.9667 - val_loss: 0.1956 - val_accuracy: 0.9667\n",
      "Epoch 132/150\n",
      " 1/15 [=>............................] - ETA: 0s - loss: 0.3691 - accuracy: 0.7500\n",
      "Epoch 00132: val_accuracy did not improve from 0.96667\n",
      "15/15 [==============================] - 0s 3ms/step - loss: 0.2035 - accuracy: 0.9667 - val_loss: 0.1943 - val_accuracy: 0.9667\n",
      "Epoch 133/150\n",
      " 1/15 [=>............................] - ETA: 0s - loss: 0.1051 - accuracy: 1.0000\n",
      "Epoch 00133: val_accuracy did not improve from 0.96667\n",
      "15/15 [==============================] - 0s 3ms/step - loss: 0.2025 - accuracy: 0.9667 - val_loss: 0.1930 - val_accuracy: 0.9667\n",
      "Epoch 134/150\n",
      " 1/15 [=>............................] - ETA: 0s - loss: 0.1848 - accuracy: 1.0000\n",
      "Epoch 00134: val_accuracy did not improve from 0.96667\n",
      "15/15 [==============================] - 0s 3ms/step - loss: 0.2007 - accuracy: 0.9667 - val_loss: 0.1921 - val_accuracy: 0.9667\n",
      "Epoch 135/150\n",
      " 1/15 [=>............................] - ETA: 0s - loss: 0.1573 - accuracy: 1.0000\n",
      "Epoch 00135: val_accuracy did not improve from 0.96667\n",
      "15/15 [==============================] - 0s 3ms/step - loss: 0.1998 - accuracy: 0.9583 - val_loss: 0.1905 - val_accuracy: 0.9667\n",
      "Epoch 136/150\n",
      " 1/15 [=>............................] - ETA: 0s - loss: 0.1448 - accuracy: 1.0000\n",
      "Epoch 00136: val_accuracy did not improve from 0.96667\n",
      "15/15 [==============================] - 0s 3ms/step - loss: 0.1984 - accuracy: 0.9583 - val_loss: 0.1897 - val_accuracy: 0.9667\n",
      "Epoch 137/150\n",
      " 1/15 [=>............................] - ETA: 0s - loss: 0.1762 - accuracy: 1.0000\n",
      "Epoch 00137: val_accuracy did not improve from 0.96667\n",
      "15/15 [==============================] - 0s 3ms/step - loss: 0.1975 - accuracy: 0.9667 - val_loss: 0.1878 - val_accuracy: 0.9667\n",
      "Epoch 138/150\n",
      " 1/15 [=>............................] - ETA: 0s - loss: 0.2096 - accuracy: 1.0000\n",
      "Epoch 00138: val_accuracy did not improve from 0.96667\n",
      "15/15 [==============================] - 0s 3ms/step - loss: 0.1954 - accuracy: 0.9667 - val_loss: 0.1867 - val_accuracy: 0.9667\n",
      "Epoch 139/150\n",
      " 1/15 [=>............................] - ETA: 0s - loss: 0.2456 - accuracy: 0.8750\n",
      "Epoch 00139: val_accuracy did not improve from 0.96667\n",
      "15/15 [==============================] - 0s 3ms/step - loss: 0.1943 - accuracy: 0.9667 - val_loss: 0.1853 - val_accuracy: 0.9667\n",
      "Epoch 140/150\n",
      " 1/15 [=>............................] - ETA: 0s - loss: 0.0936 - accuracy: 1.0000\n",
      "Epoch 00140: val_accuracy did not improve from 0.96667\n",
      "15/15 [==============================] - 0s 2ms/step - loss: 0.1936 - accuracy: 0.9667 - val_loss: 0.1843 - val_accuracy: 0.9667\n",
      "Epoch 141/150\n",
      " 1/15 [=>............................] - ETA: 0s - loss: 0.0729 - accuracy: 1.0000\n",
      "Epoch 00141: val_accuracy did not improve from 0.96667\n",
      "15/15 [==============================] - 0s 3ms/step - loss: 0.1911 - accuracy: 0.9667 - val_loss: 0.1834 - val_accuracy: 0.9667\n",
      "Epoch 142/150\n",
      " 1/15 [=>............................] - ETA: 0s - loss: 0.2205 - accuracy: 0.8750\n",
      "Epoch 00142: val_accuracy did not improve from 0.96667\n",
      "15/15 [==============================] - 0s 3ms/step - loss: 0.1900 - accuracy: 0.9667 - val_loss: 0.1822 - val_accuracy: 0.9667\n",
      "Epoch 143/150\n",
      " 1/15 [=>............................] - ETA: 0s - loss: 0.2607 - accuracy: 1.0000\n",
      "Epoch 00143: val_accuracy did not improve from 0.96667\n",
      "15/15 [==============================] - 0s 4ms/step - loss: 0.1900 - accuracy: 0.9583 - val_loss: 0.1813 - val_accuracy: 0.9667\n",
      "Epoch 144/150\n",
      " 1/15 [=>............................] - ETA: 0s - loss: 0.2178 - accuracy: 1.0000\n",
      "Epoch 00144: val_accuracy did not improve from 0.96667\n",
      "15/15 [==============================] - 0s 3ms/step - loss: 0.1891 - accuracy: 0.9667 - val_loss: 0.1795 - val_accuracy: 0.9667\n",
      "Epoch 145/150\n",
      " 1/15 [=>............................] - ETA: 0s - loss: 0.1856 - accuracy: 1.0000\n",
      "Epoch 00145: val_accuracy did not improve from 0.96667\n",
      "15/15 [==============================] - 0s 3ms/step - loss: 0.1864 - accuracy: 0.9667 - val_loss: 0.1789 - val_accuracy: 0.9667\n",
      "Epoch 146/150\n",
      " 1/15 [=>............................] - ETA: 0s - loss: 0.1170 - accuracy: 1.0000\n",
      "Epoch 00146: val_accuracy did not improve from 0.96667\n",
      "15/15 [==============================] - 0s 3ms/step - loss: 0.1850 - accuracy: 0.9667 - val_loss: 0.1777 - val_accuracy: 0.9667\n",
      "Epoch 147/150\n",
      " 1/15 [=>............................] - ETA: 0s - loss: 0.1802 - accuracy: 1.0000\n",
      "Epoch 00147: val_accuracy did not improve from 0.96667\n",
      "15/15 [==============================] - 0s 3ms/step - loss: 0.1842 - accuracy: 0.9667 - val_loss: 0.1768 - val_accuracy: 0.9667\n",
      "Epoch 148/150\n",
      " 1/15 [=>............................] - ETA: 0s - loss: 0.0677 - accuracy: 1.0000\n",
      "Epoch 00148: val_accuracy did not improve from 0.96667\n",
      "15/15 [==============================] - 0s 3ms/step - loss: 0.1829 - accuracy: 0.9667 - val_loss: 0.1751 - val_accuracy: 0.9667\n",
      "Epoch 149/150\n",
      " 1/15 [=>............................] - ETA: 0s - loss: 0.3506 - accuracy: 0.8750\n",
      "Epoch 00149: val_accuracy did not improve from 0.96667\n",
      "15/15 [==============================] - 0s 3ms/step - loss: 0.1814 - accuracy: 0.9667 - val_loss: 0.1742 - val_accuracy: 0.9667\n",
      "Epoch 150/150\n",
      " 1/15 [=>............................] - ETA: 0s - loss: 0.0784 - accuracy: 1.0000\n",
      "Epoch 00150: val_accuracy did not improve from 0.96667\n",
      "15/15 [==============================] - 0s 3ms/step - loss: 0.1817 - accuracy: 0.9667 - val_loss: 0.1743 - val_accuracy: 0.9667\n",
      "Wall time: 7.86 s\n"
     ]
    }
   ],
   "source": [
    "%%time\r\n",
    "checkpointer = ModelCheckpoint(filepath='./modelo_mlp_ex3_1.hdf5', verbose=1,  save_best_only=True, monitor='val_accuracy')\r\n",
    "\r\n",
    "history = model.fit(X_train, y_train, validation_data=(X_test, y_test), epochs=150, batch_size=8, callbacks=[checkpointer])"
   ]
  },
  {
   "cell_type": "markdown",
   "metadata": {},
   "source": [
    "## Gráfico comparativo de Acurácia e Perda no treinamento"
   ]
  },
  {
   "cell_type": "code",
   "execution_count": 68,
   "metadata": {},
   "outputs": [
    {
     "data": {
      "image/png": "[encoded data removed]",
      "text/plain": [
       "<Figure size 864x360 with 2 Axes>"
      ]
     },
     "metadata": {
      "needs_background": "light"
     },
     "output_type": "display_data"
    }
   ],
   "source": [
    "plot_history(history)"
   ]
  },
  {
   "cell_type": "markdown",
   "metadata": {},
   "source": [
    "## Carregando o melhor modelo salvo e apresentando a acurácia do Treino e do Teste"
   ]
  },
  {
   "cell_type": "code",
   "execution_count": 69,
   "metadata": {},
   "outputs": [],
   "source": [
    "model = load_model(\"./modelo_mlp_ex3_1.hdf5\")"
   ]
  },
  {
   "cell_type": "code",
   "execution_count": 70,
   "metadata": {},
   "outputs": [
    {
     "name": "stdout",
     "output_type": "stream",
     "text": [
      "4/4 [==============================] - 0s 1ms/step - loss: 0.3520 - accuracy: 0.9583\n",
      "\n",
      "Acuracia do Treino: 95.83%\n"
     ]
    }
   ],
   "source": [
    "scores = model.evaluate(X_train, y_train)\r\n",
    "print()\r\n",
    "print(f\"Acuracia do Treino: {round(scores[1]*100,2)}%\")"
   ]
  },
  {
   "cell_type": "code",
   "execution_count": 71,
   "metadata": {},
   "outputs": [
    {
     "name": "stdout",
     "output_type": "stream",
     "text": [
      "1/1 [==============================] - 0s 1000us/step - loss: 0.3380 - accuracy: 0.9667\n",
      "\n",
      "Acuracia da Validação: 96.67%\n"
     ]
    }
   ],
   "source": [
    "scores = model.evaluate(X_test, y_test)\r\n",
    "print()\r\n",
    "print(f\"Acuracia da Validação: {round(scores[1]*100,2)}%\")"
   ]
  },
  {
   "cell_type": "markdown",
   "metadata": {},
   "source": [
    "## Conferindo o modelo final com uma Validação Cruzada (Cross Validation) usando 10 amostras. Neste caso vamos usar toda a base de dados."
   ]
  },
  {
   "cell_type": "code",
   "execution_count": 72,
   "metadata": {},
   "outputs": [],
   "source": [
    "def create_model():\r\n",
    "    model = Sequential()\r\n",
    "    model.add(Dense(8, input_dim=4, activation='relu'))\r\n",
    "    model.add(Dense(3 , activation='softmax'))\r\n",
    "    model.compile(loss='categorical_crossentropy', optimizer='adam', metrics=['accuracy'])\r\n",
    "    \r\n",
    "    return model\r\n",
    "    "
   ]
  },
  {
   "cell_type": "code",
   "execution_count": 73,
   "metadata": {},
   "outputs": [
    {
     "name": "stdout",
     "output_type": "stream",
     "text": [
      "WARNING:tensorflow:5 out of the last 610 calls to <function Model.make_test_function.<locals>.test_function at 0x0000011EAC2DDEE0> triggered tf.function retracing. Tracing is expensive and the excessive number of tracings could be due to (1) creating @tf.function repeatedly in a loop, (2) passing tensors with different shapes, (3) passing Python objects instead of tensors. For (1), please define your @tf.function outside of the loop. For (2), @tf.function has experimental_relax_shapes=True option that relaxes argument shapes that can avoid unnecessary retracing. For (3), please refer to https://www.tensorflow.org/tutorials/customization/performance#python_or_tensor_args and https://www.tensorflow.org/api_docs/python/tf/function for  more details.\n",
      "WARNING:tensorflow:5 out of the last 12 calls to <function Model.make_test_function.<locals>.test_function at 0x0000011DC92C0550> triggered tf.function retracing. Tracing is expensive and the excessive number of tracings could be due to (1) creating @tf.function repeatedly in a loop, (2) passing tensors with different shapes, (3) passing Python objects instead of tensors. For (1), please define your @tf.function outside of the loop. For (2), @tf.function has experimental_relax_shapes=True option that relaxes argument shapes that can avoid unnecessary retracing. For (3), please refer to https://www.tensorflow.org/tutorials/customization/performance#python_or_tensor_args and https://www.tensorflow.org/api_docs/python/tf/function for  more details.\n",
      "WARNING:tensorflow:6 out of the last 14 calls to <function Model.make_test_function.<locals>.test_function at 0x0000011EB44E9CA0> triggered tf.function retracing. Tracing is expensive and the excessive number of tracings could be due to (1) creating @tf.function repeatedly in a loop, (2) passing tensors with different shapes, (3) passing Python objects instead of tensors. For (1), please define your @tf.function outside of the loop. For (2), @tf.function has experimental_relax_shapes=True option that relaxes argument shapes that can avoid unnecessary retracing. For (3), please refer to https://www.tensorflow.org/tutorials/customization/performance#python_or_tensor_args and https://www.tensorflow.org/api_docs/python/tf/function for  more details.\n",
      "WARNING:tensorflow:6 out of the last 11 calls to <function Model.make_test_function.<locals>.test_function at 0x0000011EB5A2A790> triggered tf.function retracing. Tracing is expensive and the excessive number of tracings could be due to (1) creating @tf.function repeatedly in a loop, (2) passing tensors with different shapes, (3) passing Python objects instead of tensors. For (1), please define your @tf.function outside of the loop. For (2), @tf.function has experimental_relax_shapes=True option that relaxes argument shapes that can avoid unnecessary retracing. For (3), please refer to https://www.tensorflow.org/tutorials/customization/performance#python_or_tensor_args and https://www.tensorflow.org/api_docs/python/tf/function for  more details.\n",
      "WARNING:tensorflow:6 out of the last 11 calls to <function Model.make_test_function.<locals>.test_function at 0x0000011EAC33A3A0> triggered tf.function retracing. Tracing is expensive and the excessive number of tracings could be due to (1) creating @tf.function repeatedly in a loop, (2) passing tensors with different shapes, (3) passing Python objects instead of tensors. For (1), please define your @tf.function outside of the loop. For (2), @tf.function has experimental_relax_shapes=True option that relaxes argument shapes that can avoid unnecessary retracing. For (3), please refer to https://www.tensorflow.org/tutorials/customization/performance#python_or_tensor_args and https://www.tensorflow.org/api_docs/python/tf/function for  more details.\n",
      "WARNING:tensorflow:6 out of the last 11 calls to <function Model.make_test_function.<locals>.test_function at 0x0000011DC7AD7280> triggered tf.function retracing. Tracing is expensive and the excessive number of tracings could be due to (1) creating @tf.function repeatedly in a loop, (2) passing tensors with different shapes, (3) passing Python objects instead of tensors. For (1), please define your @tf.function outside of the loop. For (2), @tf.function has experimental_relax_shapes=True option that relaxes argument shapes that can avoid unnecessary retracing. For (3), please refer to https://www.tensorflow.org/tutorials/customization/performance#python_or_tensor_args and https://www.tensorflow.org/api_docs/python/tf/function for  more details.\n",
      "WARNING:tensorflow:6 out of the last 11 calls to <function Model.make_test_function.<locals>.test_function at 0x0000011EB72FC5E0> triggered tf.function retracing. Tracing is expensive and the excessive number of tracings could be due to (1) creating @tf.function repeatedly in a loop, (2) passing tensors with different shapes, (3) passing Python objects instead of tensors. For (1), please define your @tf.function outside of the loop. For (2), @tf.function has experimental_relax_shapes=True option that relaxes argument shapes that can avoid unnecessary retracing. For (3), please refer to https://www.tensorflow.org/tutorials/customization/performance#python_or_tensor_args and https://www.tensorflow.org/api_docs/python/tf/function for  more details.\n",
      "WARNING:tensorflow:6 out of the last 11 calls to <function Model.make_test_function.<locals>.test_function at 0x0000011EB44E9670> triggered tf.function retracing. Tracing is expensive and the excessive number of tracings could be due to (1) creating @tf.function repeatedly in a loop, (2) passing tensors with different shapes, (3) passing Python objects instead of tensors. For (1), please define your @tf.function outside of the loop. For (2), @tf.function has experimental_relax_shapes=True option that relaxes argument shapes that can avoid unnecessary retracing. For (3), please refer to https://www.tensorflow.org/tutorials/customization/performance#python_or_tensor_args and https://www.tensorflow.org/api_docs/python/tf/function for  more details.\n",
      "\n",
      "Accuracy : 0.93 (+/- 0.07)\n"
     ]
    }
   ],
   "source": [
    "estimator = KerasClassifier(build_fn=create_model, epochs=150, batch_size=8, verbose=0)\r\n",
    "y = to_categorical(y)\r\n",
    "scores = cross_val_score(estimator, X, y, cv=10, n_jobs=1)\r\n",
    "print()\r\n",
    "print(\"Accuracy : {:0.2f} (+/- {:0.2f})\".format(scores.mean(), scores.std()))"
   ]
  }
 ],
 "metadata": {
  "interpreter": {
   "hash": "c24c9dacf042e5cf8b743bae11b2cef3a95983df3bc5153773d9ffef1d5207d2"
  },
  "kernelspec": {
   "display_name": "Python 3.8.10 64-bit ('tf-gpu': conda)",
   "name": "python3"
  },
  "language_info": {
   "codemirror_mode": {
    "name": "ipython",
    "version": 3
   },
   "file_extension": ".py",
   "mimetype": "text/x-python",
   "name": "python",
   "nbconvert_exporter": "python",
   "pygments_lexer": "ipython3",
   "version": "3.8.10"
  },
  "orig_nbformat": 4
 },
 "nbformat": 4,
 "nbformat_minor": 2
}