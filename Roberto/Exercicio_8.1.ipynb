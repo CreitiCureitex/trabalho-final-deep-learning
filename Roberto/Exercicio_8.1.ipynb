{
 "cells": [
  {
   "cell_type": "markdown",
   "metadata": {},
   "source": [
    "## Bibliotecas Utilizadas"
   ]
  },
  {
   "cell_type": "code",
   "execution_count": 1,
   "metadata": {},
   "outputs": [
    {
     "name": "stderr",
     "output_type": "stream",
     "text": [
      "Using TensorFlow backend.\n"
     ]
    }
   ],
   "source": [
    "import os\n",
    "import numpy as np\n",
    "import matplotlib.pyplot as plt\n",
    "import tensorflow as tf\n",
    "from tensorflow.keras.utils import to_categorical\n",
    "from keras.models import Sequential, load_model\n",
    "from keras.layers import Dense\n",
    "from keras.layers import Dropout\n",
    "from keras.layers import Flatten\n",
    "from keras.layers.convolutional import Conv2D\n",
    "from keras.layers.convolutional import MaxPooling2D, AveragePooling2D\n",
    "from keras.utils import np_utils\n",
    "from keras.utils.vis_utils import plot_model\n",
    "from keras import backend as K\n",
    "from keras.preprocessing.image import img_to_array, load_img\n",
    "from datetime import datetime, time"
   ]
  },
  {
   "cell_type": "code",
   "execution_count": 2,
   "metadata": {},
   "outputs": [
    {
     "name": "stdout",
     "output_type": "stream",
     "text": [
      "Início Execução : \n",
      "2021-07-18 07:53:47\n"
     ]
    }
   ],
   "source": [
    "print (\"Início Execução : \")\n",
    "print (datetime.now().strftime(\"%Y-%m-%d %H:%M:%S\"))"
   ]
  },
  {
   "cell_type": "markdown",
   "metadata": {},
   "source": [
    "# Carregando os dados "
   ]
  },
  {
   "cell_type": "code",
   "execution_count": 3,
   "metadata": {},
   "outputs": [],
   "source": [
    "path_treino = './fruits-15/Training' \n",
    "path_teste = './fruits-15/Test'"
   ]
  },
  {
   "cell_type": "code",
   "execution_count": 4,
   "metadata": {},
   "outputs": [],
   "source": [
    "def get_dados(path):\n",
    "    lista_dir = os.listdir(path)\n",
    "    X = []\n",
    "    Y = []\n",
    "    for cat_fruta, fruta in enumerate(lista_dir):\n",
    "        if (cat_fruta == 5):\n",
    "            break\n",
    "        lista_img = os.listdir('{0}/{1}'.format(path, fruta))\n",
    "        print('{0} - {1}'.format(cat_fruta, fruta))\n",
    "        for img in lista_img:\n",
    "            arquivo = '{0}/{1}/{2}'.format(path, fruta, img)\n",
    "            img_fruta = img_to_array(load_img(arquivo, target_size=(100, 100)))\n",
    "            X.append(img_fruta)\n",
    "            Y.append(cat_fruta)\n",
    "    return (X, Y)"
   ]
  },
  {
   "cell_type": "code",
   "execution_count": 5,
   "metadata": {},
   "outputs": [],
   "source": [
    "def plot_history(history):\n",
    "    acc = history.history['accuracy']\n",
    "    val_acc = history.history['val_accuracy']\n",
    "    loss = history.history['loss']\n",
    "    val_loss = history.history['val_loss']\n",
    "    x = range(1, len(acc) + 1)\n",
    "    plt.figure(figsize=(12, 5))\n",
    "    plt.subplot(1, 2, 1)\n",
    "    plt.plot(x, acc, 'b', label='Training Accuracy')\n",
    "    plt.plot(x, val_acc, 'r', label='Validation Accuracy')\n",
    "    plt.title('Training and validation Accuracy')\n",
    "    plt.subplot(1, 2, 2)\n",
    "    plt.plot(x, loss, 'b', label='Training loss')\n",
    "    plt.plot(x, val_loss, 'r', label='Validation loss')\n",
    "    plt.title('Training and validation loss')\n",
    "    plt.legend()"
   ]
  },
  {
   "cell_type": "code",
   "execution_count": 6,
   "metadata": {},
   "outputs": [
    {
     "name": "stdout",
     "output_type": "stream",
     "text": [
      "0 - Apple Red 1\n",
      "1 - Banana\n",
      "2 - Blueberry\n",
      "3 - Cherry 2\n",
      "4 - Grape Blue\n"
     ]
    }
   ],
   "source": [
    "X_frutas, Y_frutas = get_dados(path_treino)"
   ]
  },
  {
   "cell_type": "code",
   "execution_count": 7,
   "metadata": {},
   "outputs": [],
   "source": [
    "X_train = np.asarray(X_frutas).astype(np.float32)\n",
    "Y_train = np.asarray(Y_frutas)"
   ]
  },
  {
   "cell_type": "code",
   "execution_count": 8,
   "metadata": {},
   "outputs": [
    {
     "data": {
      "text/plain": [
       "(3166, 100, 100, 3)"
      ]
     },
     "execution_count": 8,
     "metadata": {},
     "output_type": "execute_result"
    }
   ],
   "source": [
    "X_train.shape"
   ]
  },
  {
   "cell_type": "code",
   "execution_count": 9,
   "metadata": {},
   "outputs": [
    {
     "data": {
      "text/plain": [
       "(3166,)"
      ]
     },
     "execution_count": 9,
     "metadata": {},
     "output_type": "execute_result"
    }
   ],
   "source": [
    "Y_train.shape"
   ]
  },
  {
   "cell_type": "code",
   "execution_count": 10,
   "metadata": {},
   "outputs": [],
   "source": [
    "X_train = X_train.astype('float32')/255"
   ]
  },
  {
   "cell_type": "code",
   "execution_count": 11,
   "metadata": {},
   "outputs": [
    {
     "name": "stdout",
     "output_type": "stream",
     "text": [
      "5\n"
     ]
    }
   ],
   "source": [
    "num_frutas = len(list(set(Y_train)))\n",
    "print(num_frutas)\n",
    "Y_train = to_categorical(Y_train, num_frutas)"
   ]
  },
  {
   "cell_type": "code",
   "execution_count": 12,
   "metadata": {},
   "outputs": [
    {
     "name": "stdout",
     "output_type": "stream",
     "text": [
      "(None, 96, 96, 6)\n",
      "(None, 48, 48, 6)\n",
      "(None, 44, 44, 16)\n",
      "(None, 22, 22, 16)\n",
      "(None, 18, 18, 12)\n",
      "(None, 3888)\n",
      "(None, 240)\n",
      "(None, 120)\n",
      "(None, 5)\n"
     ]
    }
   ],
   "source": [
    "# Cria o modelo\n",
    "model = Sequential()\n",
    "#Convolução 2D com função de ativação Rectified Linear Units 32 kernels/Pesos (filtros) \n",
    "model.add(Conv2D(6, (5, 5), input_shape=(100, 100, 3), activation='relu'))#\n",
    "print( model.output_shape)\n",
    "#Camada de Pooling \t    \n",
    "model.add(MaxPooling2D(pool_size=(2, 2)))\n",
    "print( model.output_shape)\n",
    "\n",
    "model.add(Conv2D(16, (5, 5), activation='relu'))#\n",
    "print( model.output_shape)\n",
    "#Camada de Pooling \t    \n",
    "model.add(MaxPooling2D(pool_size=(2, 2)))\n",
    "print( model.output_shape)\n",
    "\n",
    "model.add(Conv2D(12, (5, 5), activation='relu'))#\n",
    "print( model.output_shape)\n",
    "\n",
    "model.add(Dropout(0.2))\n",
    "\n",
    "#Converte o conjunto de imagens e um vetor unidimensional para a entrada da rede neural totalmente conectada\n",
    "model.add(Flatten())\n",
    "print(model.output_shape)\n",
    "model.add(Dense(240, activation='tanh'))\n",
    "print(model.output_shape)\n",
    "model.add(Dense(120, activation='tanh'))\n",
    "print(model.output_shape)\n",
    "#Função de Ativação Softmax\n",
    "model.add(Dense(num_frutas, activation='softmax'))\n",
    "print(model.output_shape)"
   ]
  },
  {
   "cell_type": "code",
   "execution_count": 13,
   "metadata": {},
   "outputs": [],
   "source": [
    "#plot_model(model, show_shapes=True, show_layer_names=True)"
   ]
  },
  {
   "cell_type": "code",
   "execution_count": 14,
   "metadata": {},
   "outputs": [],
   "source": [
    "model.compile(loss='categorical_crossentropy', optimizer='adam', metrics=['accuracy'])"
   ]
  },
  {
   "cell_type": "code",
   "execution_count": 15,
   "metadata": {},
   "outputs": [
    {
     "name": "stdout",
     "output_type": "stream",
     "text": [
      "Train on 2532 samples, validate on 634 samples\n",
      "Epoch 1/10\n",
      "2532/2532 [==============================] - 26s 10ms/step - loss: 0.5791 - accuracy: 0.7555 - val_loss: 0.3993 - val_accuracy: 0.8502\n",
      "Epoch 2/10\n",
      "2532/2532 [==============================] - 2s 945us/step - loss: 0.0286 - accuracy: 0.9917 - val_loss: 0.2639 - val_accuracy: 0.9259\n",
      "Epoch 3/10\n",
      "2532/2532 [==============================] - 2s 920us/step - loss: 0.0023 - accuracy: 1.0000 - val_loss: 0.5342 - val_accuracy: 0.8375\n",
      "Epoch 4/10\n",
      "2532/2532 [==============================] - 2s 905us/step - loss: 4.0866e-04 - accuracy: 1.0000 - val_loss: 0.3264 - val_accuracy: 0.9211\n",
      "Epoch 5/10\n",
      "2532/2532 [==============================] - 2s 929us/step - loss: 2.6430e-04 - accuracy: 1.0000 - val_loss: 0.4110 - val_accuracy: 0.8912\n",
      "Epoch 6/10\n",
      "2532/2532 [==============================] - 2s 911us/step - loss: 1.9987e-04 - accuracy: 1.0000 - val_loss: 0.4193 - val_accuracy: 0.8896\n",
      "Epoch 7/10\n",
      "2532/2532 [==============================] - 2s 917us/step - loss: 1.5362e-04 - accuracy: 1.0000 - val_loss: 0.3964 - val_accuracy: 0.9069\n",
      "Epoch 8/10\n",
      "2532/2532 [==============================] - 2s 916us/step - loss: 1.4391e-04 - accuracy: 1.0000 - val_loss: 0.3939 - val_accuracy: 0.9117\n",
      "Epoch 9/10\n",
      "2532/2532 [==============================] - 2s 913us/step - loss: 1.4866e-04 - accuracy: 1.0000 - val_loss: 0.4068 - val_accuracy: 0.9054\n",
      "Epoch 10/10\n",
      "2532/2532 [==============================] - 2s 912us/step - loss: 1.2404e-04 - accuracy: 1.0000 - val_loss: 0.4394 - val_accuracy: 0.8912\n"
     ]
    }
   ],
   "source": [
    "history = model.fit(X_train, Y_train, validation_split = 0.2, epochs=10, batch_size=200)"
   ]
  },
  {
   "cell_type": "code",
   "execution_count": 16,
   "metadata": {},
   "outputs": [
    {
     "data": {
      "image/png": "[encoded data removed]",
      "text/plain": [
       "<Figure size 864x360 with 2 Axes>"
      ]
     },
     "metadata": {
      "needs_background": "light"
     },
     "output_type": "display_data"
    }
   ],
   "source": [
    "plot_history(history)"
   ]
  },
  {
   "cell_type": "code",
   "execution_count": 17,
   "metadata": {},
   "outputs": [
    {
     "name": "stdout",
     "output_type": "stream",
     "text": [
      "Erro da CNN: 2.18%\n",
      "Acurácia da CNN: 97.82%\n"
     ]
    }
   ],
   "source": [
    "scores = model.evaluate(X_train, Y_train, verbose=0)\n",
    "print(\"Erro da CNN: %.2f%%\" % (100-scores[1]*100))\n",
    "print(\"Acurácia da CNN: %.2f%%\" % (scores[1]*100))"
   ]
  },
  {
   "cell_type": "code",
   "execution_count": 18,
   "metadata": {},
   "outputs": [
    {
     "name": "stdout",
     "output_type": "stream",
     "text": [
      "0 - Apple Red 1\n",
      "1 - Banana\n",
      "2 - Blueberry\n",
      "3 - Cherry 2\n",
      "4 - Grape Blue\n"
     ]
    }
   ],
   "source": [
    "X_frutas, Y_frutas = get_dados(path_teste)"
   ]
  },
  {
   "cell_type": "code",
   "execution_count": 19,
   "metadata": {},
   "outputs": [],
   "source": [
    "X_test = np.asarray(X_frutas).astype(np.float32)\n",
    "Y_test = np.asarray(Y_frutas)"
   ]
  },
  {
   "cell_type": "code",
   "execution_count": 20,
   "metadata": {},
   "outputs": [],
   "source": [
    "X_test = X_test.astype('float32')/255\n",
    "Y_test = to_categorical(Y_test, num_frutas)"
   ]
  },
  {
   "cell_type": "code",
   "execution_count": 21,
   "metadata": {},
   "outputs": [
    {
     "data": {
      "text/plain": [
       "(1058, 100, 100, 3)"
      ]
     },
     "execution_count": 21,
     "metadata": {},
     "output_type": "execute_result"
    }
   ],
   "source": [
    "X_test.shape"
   ]
  },
  {
   "cell_type": "code",
   "execution_count": 22,
   "metadata": {},
   "outputs": [
    {
     "data": {
      "text/plain": [
       "(1058, 5)"
      ]
     },
     "execution_count": 22,
     "metadata": {},
     "output_type": "execute_result"
    }
   ],
   "source": [
    "Y_test.shape"
   ]
  },
  {
   "cell_type": "code",
   "execution_count": 23,
   "metadata": {},
   "outputs": [
    {
     "name": "stdout",
     "output_type": "stream",
     "text": [
      "Erro da CNN: 5.77%\n",
      "Acurária da CNN: 94.23%\n"
     ]
    }
   ],
   "source": [
    "scores = model.evaluate(X_test, Y_test, verbose=0)\n",
    "print(\"Erro da CNN: %.2f%%\" % (100-scores[1]*100))\n",
    "print(\"Acurária da CNN: %.2f%%\" % (scores[1]*100))"
   ]
  },
  {
   "cell_type": "code",
   "execution_count": 24,
   "metadata": {},
   "outputs": [
    {
     "name": "stdout",
     "output_type": "stream",
     "text": [
      "Fim Execução : \n",
      "2021-07-18 07:55:40\n"
     ]
    }
   ],
   "source": [
    "print (\"Fim Execução : \")\n",
    "print (datetime.now().strftime(\"%Y-%m-%d %H:%M:%S\"))"
   ]
  },
  {
   "cell_type": "code",
   "execution_count": null,
   "metadata": {},
   "outputs": [],
   "source": []
  }
 ],
 "metadata": {
  "kernelspec": {
   "display_name": "Python 3",
   "language": "python",
   "name": "python3"
  },
  "language_info": {
   "codemirror_mode": {
    "name": "ipython",
    "version": 3
   },
   "file_extension": ".py",
   "mimetype": "text/x-python",
   "name": "python",
   "nbconvert_exporter": "python",
   "pygments_lexer": "ipython3",
   "version": "3.7.10"
  }
 },
 "nbformat": 4,
 "nbformat_minor": 4
}
