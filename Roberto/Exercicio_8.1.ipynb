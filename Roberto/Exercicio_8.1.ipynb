{
 "cells": [
  {
   "cell_type": "markdown",
   "metadata": {},
   "source": [
    "## Bibliotecas Utilizadas"
   ]
  },
  {
   "cell_type": "code",
   "execution_count": 26,
   "metadata": {},
   "outputs": [],
   "source": [
    "import os\n",
    "import numpy as np\n",
    "import matplotlib.pyplot as plt\n",
    "import tensorflow as tf\n",
    "from tensorflow.keras.utils import to_categorical\n",
    "from keras.models import Sequential, load_model\n",
    "from keras.layers import Dense\n",
    "from keras.layers import Dropout\n",
    "from keras.layers import Flatten\n",
    "from keras.layers.convolutional import Conv2D\n",
    "from keras.layers.convolutional import MaxPooling2D, AveragePooling2D\n",
    "from keras.utils import np_utils\n",
    "from keras.utils.vis_utils import plot_model\n",
    "from keras import backend as K\n",
    "from keras.preprocessing.image import img_to_array, load_img\n",
    "from datetime import datetime, time"
   ]
  },
  {
   "cell_type": "code",
   "execution_count": 27,
   "metadata": {},
   "outputs": [
    {
     "name": "stdout",
     "output_type": "stream",
     "text": [
      "Início Execução : \n",
      "2021-07-19 00:10:28\n"
     ]
    }
   ],
   "source": [
    "print (\"Início Execução : \")\n",
    "print (datetime.now().strftime(\"%Y-%m-%d %H:%M:%S\"))"
   ]
  },
  {
   "cell_type": "markdown",
   "metadata": {},
   "source": [
    "# Funções"
   ]
  },
  {
   "cell_type": "code",
   "execution_count": 28,
   "metadata": {},
   "outputs": [],
   "source": [
    "def build_grayscale_image(image):\n",
    "    image = tf.image.convert_image_dtype(image , tf.float32)\n",
    "    return tf.image.rgb_to_grayscale(image)"
   ]
  },
  {
   "cell_type": "code",
   "execution_count": 29,
   "metadata": {},
   "outputs": [],
   "source": [
    "def build_hsv_grayscale_image(image):\n",
    "    image = tf.image.convert_image_dtype(image , tf.float32)\n",
    "    gray_image = tf.image.rgb_to_grayscale(image)\n",
    "    image = tf.image.rgb_to_hsv(image)\n",
    "    rez = tf.concat([image , gray_image], 2)\n",
    "    return rez"
   ]
  },
  {
   "cell_type": "code",
   "execution_count": 30,
   "metadata": {},
   "outputs": [],
   "source": [
    "def get_dados(path, size):\n",
    "    lista_dir = os.listdir(path)\n",
    "    X = []\n",
    "    Y = []\n",
    "    for cat_fruta, fruta in enumerate(lista_dir):\n",
    "        if(cat_fruta == 10):\n",
    "            break\n",
    "        lista_img = os.listdir('{0}/{1}'.format(path, fruta))\n",
    "        print('{0} - {1}'.format(cat_fruta, fruta))\n",
    "        for img in lista_img:\n",
    "            arquivo = '{0}/{1}/{2}'.format(path, fruta, img)\n",
    "            img_fruta = img_to_array(load_img(arquivo, target_size=(size, size)))\n",
    "            X.append(img_fruta)\n",
    "            Y.append(cat_fruta)\n",
    "    return (X, Y)"
   ]
  },
  {
   "cell_type": "code",
   "execution_count": 31,
   "metadata": {},
   "outputs": [],
   "source": [
    "def get_dados_grayscale(path, size):\n",
    "    lista_dir = os.listdir(path)\n",
    "    X = []\n",
    "    Y = []\n",
    "    for cat_fruta, fruta in enumerate(lista_dir):\n",
    "        if(cat_fruta == 10):\n",
    "            break\n",
    "        lista_img = os.listdir('{0}/{1}'.format(path, fruta))\n",
    "        print('{0} - {1}'.format(cat_fruta, fruta))\n",
    "        for img in lista_img:\n",
    "            arquivo = '{0}/{1}/{2}'.format(path, fruta, img)\n",
    "            img_fruta = build_grayscale_image(img_to_array(load_img(arquivo, target_size=(size, size))))\n",
    "            X.append(img_fruta)\n",
    "            Y.append(cat_fruta)\n",
    "    return (X, Y)"
   ]
  },
  {
   "cell_type": "code",
   "execution_count": 32,
   "metadata": {},
   "outputs": [],
   "source": [
    "def get_dados_hsv_grayscale(path, size):\n",
    "    lista_dir = os.listdir(path)\n",
    "    X = []\n",
    "    Y = []\n",
    "    for cat_fruta, fruta in enumerate(lista_dir):\n",
    "        if(cat_fruta == 10):\n",
    "            break        \n",
    "        lista_img = os.listdir('{0}/{1}'.format(path, fruta))\n",
    "        print('{0} - {1}'.format(cat_fruta, fruta))\n",
    "        for img in lista_img:\n",
    "            arquivo = '{0}/{1}/{2}'.format(path, fruta, img)\n",
    "            img_fruta = build_hsv_grayscale_image(img_to_array(load_img(arquivo, target_size=(size, size))))\n",
    "            X.append(img_fruta)\n",
    "            Y.append(cat_fruta)\n",
    "    return (X, Y)"
   ]
  },
  {
   "cell_type": "code",
   "execution_count": 33,
   "metadata": {},
   "outputs": [],
   "source": [
    "def plot_history(history):\n",
    "    acc = history.history['accuracy']\n",
    "    val_acc = history.history['val_accuracy']\n",
    "    loss = history.history['loss']\n",
    "    val_loss = history.history['val_loss']\n",
    "    x = range(1, len(acc) + 1)\n",
    "    plt.figure(figsize=(12, 5))\n",
    "    plt.subplot(1, 2, 1)\n",
    "    plt.plot(x, acc, 'b', label='Training Accuracy')\n",
    "    plt.plot(x, val_acc, 'r', label='Validation Accuracy')\n",
    "    plt.title('Training and validation Accuracy')\n",
    "    plt.subplot(1, 2, 2)\n",
    "    plt.plot(x, loss, 'b', label='Training loss')\n",
    "    plt.plot(x, val_loss, 'r', label='Validation loss')\n",
    "    plt.title('Training and validation loss')\n",
    "    plt.legend()"
   ]
  },
  {
   "cell_type": "code",
   "execution_count": 34,
   "metadata": {},
   "outputs": [],
   "source": [
    "def CNN_PaperOriginal(num_frutas, size, camadas):\n",
    "    # Cria o modelo\n",
    "    model = Sequential()\n",
    "    \n",
    "    #Convolução 2D com função de ativação Rectified Linear Units 32 kernels/Pesos (filtros) \n",
    "    model.add(Conv2D(4, (5, 5), input_shape=(size, size, camadas), activation='relu'))#\n",
    "    print( model.output_shape)\n",
    "    #Camada de Pooling \t    \n",
    "    model.add(MaxPooling2D(pool_size=(2, 2)))\n",
    "    print(model.output_shape)\n",
    "    \n",
    "    model.add(Dropout(0.2))\n",
    "\n",
    "    model.add(Conv2D(16, (5, 5), activation='relu'))#\n",
    "    print(model.output_shape)\n",
    "    #Camada de Pooling \t    \n",
    "    model.add(MaxPooling2D(pool_size=(2, 2)))\n",
    "    print(model.output_shape)\n",
    "    \n",
    "    model.add(Dropout(0.2))\n",
    "    \n",
    "    model.add(Conv2D(32, (5, 5), activation='relu'))#\n",
    "    print(model.output_shape)\n",
    "    #Camada de Pooling \t    \n",
    "    model.add(MaxPooling2D(pool_size=(2, 2)))\n",
    "    print(model.output_shape)\n",
    "    \n",
    "    model.add(Dropout(0.2))\n",
    "    \n",
    "    model.add(Conv2D(64, (5, 5), activation='relu'))#\n",
    "    print(model.output_shape)\n",
    "    #Camada de Pooling \t    \n",
    "    model.add(MaxPooling2D(pool_size=(2, 2)))\n",
    "    print(model.output_shape)\n",
    "    \n",
    "    model.add(Dropout(0.2))\n",
    "    \n",
    "    #Converte o conjunto de imagens e um vetor unidimensional para a entrada da rede neural totalmente conectada\n",
    "    model.add(Flatten())\n",
    "    print(model.output_shape)\n",
    "    model.add(Dense(1024, activation='tanh'))\n",
    "    print(model.output_shape)\n",
    "    model.add(Dropout(0.2))\n",
    "    model.add(Dense(256, activation='tanh'))\n",
    "    print(model.output_shape)\n",
    "    model.add(Dropout(0.2))\n",
    "    model.add(Dense(60, activation='tanh'))\n",
    "    print(model.output_shape)\n",
    "    model.add(Dropout(0.2))\n",
    "    #Função de Ativação Softmax\n",
    "    model.add(Dense(num_frutas, activation='softmax'))\n",
    "    print(model.output_shape)\n",
    "    return model"
   ]
  },
  {
   "cell_type": "code",
   "execution_count": 35,
   "metadata": {},
   "outputs": [],
   "source": [
    "def CNN_LeNet5(num_frutas,size, camadas):\n",
    "    # Cria o modelo\n",
    "    model = Sequential()\n",
    "    #Convolução 2D com função de ativação Rectified Linear Units 32 kernels/Pesos (filtros) \n",
    "    model.add(Conv2D(6, (5, 5), input_shape=(size, size, camadas), activation='relu'))#\n",
    "    print( model.output_shape)\n",
    "    #Camada de Pooling \t    \n",
    "    model.add(MaxPooling2D(pool_size=(2, 2)))\n",
    "    print( model.output_shape)\n",
    "    \n",
    "    model.add(Dropout(0.2))\n",
    "\n",
    "    model.add(Conv2D(16, (5, 5), activation='relu'))#\n",
    "    print( model.output_shape)\n",
    "    #Camada de Pooling \t    \n",
    "    model.add(MaxPooling2D(pool_size=(2, 2)))\n",
    "    print( model.output_shape)\n",
    "    \n",
    "    model.add(Dropout(0.2))\n",
    "\n",
    "    #Converte o conjunto de imagens e um vetor unidimensional para a entrada da rede neural totalmente conectada\n",
    "    model.add(Flatten())\n",
    "    print(model.output_shape)\n",
    "    model.add(Dense(240, activation='tanh'))\n",
    "    print(model.output_shape)\n",
    "    model.add(Dropout(0.2))    \n",
    "    model.add(Dense(120, activation='tanh'))\n",
    "    print(model.output_shape)\n",
    "    model.add(Dropout(0.2))    \n",
    "    #Função de Ativação Softmax\n",
    "    model.add(Dense(num_frutas, activation='softmax'))\n",
    "    print(model.output_shape)\n",
    "    return model"
   ]
  },
  {
   "cell_type": "code",
   "execution_count": 36,
   "metadata": {},
   "outputs": [],
   "source": [
    "def CNN_AlexNet(num_frutas,size,camadas):\n",
    "    # Cria o modelo\n",
    "    model = Sequential()\n",
    "    #Convolução 2D com função de ativação Rectified Linear Units 32 kernels/Pesos (filtros) \n",
    "    model.add(Conv2D(96, (11, 11), input_shape=(size, size, camadas), activation='relu'))#\n",
    "    print(model.output_shape)\n",
    "    #Camada de Pooling \t    \n",
    "    model.add(MaxPooling2D(pool_size=(3, 3)))\n",
    "    print(model.output_shape)\n",
    "    \n",
    "    model.add(Dropout(0.2))\n",
    "\n",
    "    model.add(Conv2D(256, (5, 5), activation='relu'))#\n",
    "    print(model.output_shape)\n",
    "    #Camada de Pooling \t    \n",
    "    model.add(MaxPooling2D(pool_size=(3, 3)))\n",
    "    print(model.output_shape)\n",
    "    \n",
    "    model.add(Dropout(0.2))\n",
    "\n",
    "    model.add(Conv2D(384, (3, 3), activation='relu'))#\n",
    "    print(model.output_shape)\n",
    "    model.add(Dropout(0.2))\n",
    "\n",
    "    model.add(Conv2D(384, (3, 3), activation='relu'))#\n",
    "    print(model.output_shape)\n",
    "    model.add(Dropout(0.2))\n",
    "\n",
    "    model.add(Conv2D(256, (3, 3), activation='relu'))#\n",
    "    print(model.output_shape)\n",
    "    model.add(Dropout(0.2))\n",
    "\n",
    "    #Converte o conjunto de imagens e um vetor unidimensional para a entrada da rede neural totalmente conectada\n",
    "    model.add(Flatten())\n",
    "    print(model.output_shape)\n",
    "    model.add(Dense(4096, activation='relu'))\n",
    "    print(model.output_shape)\n",
    "    model.add(Dropout(0.2))\n",
    "    model.add(Dense(4096, activation='relu'))\n",
    "    print(model.output_shape)\n",
    "    model.add(Dropout(0.2))\n",
    "    #Função de Ativação Softmax\n",
    "    model.add(Dense(num_frutas, activation='softmax'))\n",
    "    print(model.output_shape)\n",
    "    return model"
   ]
  },
  {
   "cell_type": "markdown",
   "metadata": {},
   "source": [
    "# Rodando Algoritmos"
   ]
  },
  {
   "cell_type": "code",
   "execution_count": 37,
   "metadata": {},
   "outputs": [],
   "source": [
    "path_treino = './fruits-15/Training' \n",
    "path_teste = './fruits-15/Test'"
   ]
  },
  {
   "cell_type": "code",
   "execution_count": 38,
   "metadata": {},
   "outputs": [
    {
     "name": "stdout",
     "output_type": "stream",
     "text": [
      "0 - Apple Red 1\n",
      "1 - Banana\n",
      "2 - Blueberry\n",
      "3 - Cherry 2\n",
      "4 - Grape Blue\n",
      "5 - Kiwi\n",
      "6 - Lemon\n",
      "7 - Mango\n",
      "8 - Maracuja\n",
      "9 - Orange\n",
      "10\n"
     ]
    }
   ],
   "source": [
    "X_frutas, Y_frutas = get_dados(path_treino, 100)\n",
    "X_train = np.asarray(X_frutas).astype(np.float32)\n",
    "Y_train = np.asarray(Y_frutas)\n",
    "X_train = X_train.astype('float32')/255\n",
    "num_frutas = len(list(set(Y_train)))\n",
    "print(num_frutas)\n",
    "Y_train = to_categorical(Y_train, num_frutas)"
   ]
  },
  {
   "cell_type": "code",
   "execution_count": 39,
   "metadata": {},
   "outputs": [
    {
     "name": "stdout",
     "output_type": "stream",
     "text": [
      "(None, 96, 96, 4)\n",
      "(None, 48, 48, 4)\n",
      "(None, 44, 44, 16)\n",
      "(None, 22, 22, 16)\n",
      "(None, 18, 18, 32)\n",
      "(None, 9, 9, 32)\n",
      "(None, 5, 5, 64)\n",
      "(None, 2, 2, 64)\n",
      "(None, 256)\n",
      "(None, 1024)\n",
      "(None, 256)\n",
      "(None, 60)\n",
      "(None, 10)\n",
      "Train on 4466 samples, validate on 1117 samples\n",
      "Epoch 1/20\n"
     ]
    },
    {
     "ename": "ResourceExhaustedError",
     "evalue": " OOM when allocating tensor with shape[120,4,96,96] and type float on /job:localhost/replica:0/task:0/device:GPU:0 by allocator GPU_0_bfc\n\t [[node conv2d_14/convolution (defined at D:\\FIAP\\Anaconda3\\envs\\tensorflow\\lib\\site-packages\\keras\\backend\\tensorflow_backend.py:3009) ]]\nHint: If you want to see a list of allocated tensors when OOM happens, add report_tensor_allocations_upon_oom to RunOptions for current allocation info.\n [Op:__inference_keras_scratch_graph_251665]\n\nFunction call stack:\nkeras_scratch_graph\n",
     "output_type": "error",
     "traceback": [
      "\u001b[1;31m---------------------------------------------------------------------------\u001b[0m",
      "\u001b[1;31mResourceExhaustedError\u001b[0m                    Traceback (most recent call last)",
      "\u001b[1;32m<ipython-input-39-719eca7f2a30>\u001b[0m in \u001b[0;36m<module>\u001b[1;34m\u001b[0m\n\u001b[0;32m      1\u001b[0m \u001b[0mmodel\u001b[0m \u001b[1;33m=\u001b[0m \u001b[0mCNN_PaperOriginal\u001b[0m\u001b[1;33m(\u001b[0m\u001b[0mnum_frutas\u001b[0m\u001b[1;33m,\u001b[0m\u001b[1;36m100\u001b[0m\u001b[1;33m,\u001b[0m\u001b[1;36m3\u001b[0m\u001b[1;33m)\u001b[0m\u001b[1;33m\u001b[0m\u001b[1;33m\u001b[0m\u001b[0m\n\u001b[0;32m      2\u001b[0m \u001b[0mmodel\u001b[0m\u001b[1;33m.\u001b[0m\u001b[0mcompile\u001b[0m\u001b[1;33m(\u001b[0m\u001b[0mloss\u001b[0m\u001b[1;33m=\u001b[0m\u001b[1;34m'categorical_crossentropy'\u001b[0m\u001b[1;33m,\u001b[0m \u001b[0moptimizer\u001b[0m\u001b[1;33m=\u001b[0m\u001b[1;34m'adam'\u001b[0m\u001b[1;33m,\u001b[0m \u001b[0mmetrics\u001b[0m\u001b[1;33m=\u001b[0m\u001b[1;33m[\u001b[0m\u001b[1;34m'accuracy'\u001b[0m\u001b[1;33m]\u001b[0m\u001b[1;33m)\u001b[0m\u001b[1;33m\u001b[0m\u001b[1;33m\u001b[0m\u001b[0m\n\u001b[1;32m----> 3\u001b[1;33m \u001b[0mhistory\u001b[0m \u001b[1;33m=\u001b[0m \u001b[0mmodel\u001b[0m\u001b[1;33m.\u001b[0m\u001b[0mfit\u001b[0m\u001b[1;33m(\u001b[0m\u001b[0mX_train\u001b[0m\u001b[1;33m,\u001b[0m \u001b[0mY_train\u001b[0m\u001b[1;33m,\u001b[0m \u001b[0mvalidation_split\u001b[0m \u001b[1;33m=\u001b[0m \u001b[1;36m0.2\u001b[0m\u001b[1;33m,\u001b[0m \u001b[0mepochs\u001b[0m\u001b[1;33m=\u001b[0m\u001b[1;36m20\u001b[0m\u001b[1;33m,\u001b[0m \u001b[0mbatch_size\u001b[0m\u001b[1;33m=\u001b[0m\u001b[1;36m120\u001b[0m\u001b[1;33m)\u001b[0m\u001b[1;33m\u001b[0m\u001b[1;33m\u001b[0m\u001b[0m\n\u001b[0m\u001b[0;32m      4\u001b[0m \u001b[0mplot_history\u001b[0m\u001b[1;33m(\u001b[0m\u001b[0mhistory\u001b[0m\u001b[1;33m)\u001b[0m\u001b[1;33m\u001b[0m\u001b[1;33m\u001b[0m\u001b[0m\n\u001b[0;32m      5\u001b[0m \u001b[0mscores\u001b[0m \u001b[1;33m=\u001b[0m \u001b[0mmodel\u001b[0m\u001b[1;33m.\u001b[0m\u001b[0mevaluate\u001b[0m\u001b[1;33m(\u001b[0m\u001b[0mX_train\u001b[0m\u001b[1;33m,\u001b[0m \u001b[0mY_train\u001b[0m\u001b[1;33m,\u001b[0m \u001b[0mverbose\u001b[0m\u001b[1;33m=\u001b[0m\u001b[1;36m0\u001b[0m\u001b[1;33m)\u001b[0m\u001b[1;33m\u001b[0m\u001b[1;33m\u001b[0m\u001b[0m\n",
      "\u001b[1;32mD:\\FIAP\\Anaconda3\\envs\\tensorflow\\lib\\site-packages\\keras\\engine\\training.py\u001b[0m in \u001b[0;36mfit\u001b[1;34m(self, x, y, batch_size, epochs, verbose, callbacks, validation_split, validation_data, shuffle, class_weight, sample_weight, initial_epoch, steps_per_epoch, validation_steps, validation_freq, max_queue_size, workers, use_multiprocessing, **kwargs)\u001b[0m\n\u001b[0;32m   1237\u001b[0m                                         \u001b[0msteps_per_epoch\u001b[0m\u001b[1;33m=\u001b[0m\u001b[0msteps_per_epoch\u001b[0m\u001b[1;33m,\u001b[0m\u001b[1;33m\u001b[0m\u001b[1;33m\u001b[0m\u001b[0m\n\u001b[0;32m   1238\u001b[0m                                         \u001b[0mvalidation_steps\u001b[0m\u001b[1;33m=\u001b[0m\u001b[0mvalidation_steps\u001b[0m\u001b[1;33m,\u001b[0m\u001b[1;33m\u001b[0m\u001b[1;33m\u001b[0m\u001b[0m\n\u001b[1;32m-> 1239\u001b[1;33m                                         validation_freq=validation_freq)\n\u001b[0m\u001b[0;32m   1240\u001b[0m \u001b[1;33m\u001b[0m\u001b[0m\n\u001b[0;32m   1241\u001b[0m     def evaluate(self,\n",
      "\u001b[1;32mD:\\FIAP\\Anaconda3\\envs\\tensorflow\\lib\\site-packages\\keras\\engine\\training_arrays.py\u001b[0m in \u001b[0;36mfit_loop\u001b[1;34m(model, fit_function, fit_inputs, out_labels, batch_size, epochs, verbose, callbacks, val_function, val_inputs, shuffle, initial_epoch, steps_per_epoch, validation_steps, validation_freq)\u001b[0m\n\u001b[0;32m    194\u001b[0m                     \u001b[0mins_batch\u001b[0m\u001b[1;33m[\u001b[0m\u001b[0mi\u001b[0m\u001b[1;33m]\u001b[0m \u001b[1;33m=\u001b[0m \u001b[0mins_batch\u001b[0m\u001b[1;33m[\u001b[0m\u001b[0mi\u001b[0m\u001b[1;33m]\u001b[0m\u001b[1;33m.\u001b[0m\u001b[0mtoarray\u001b[0m\u001b[1;33m(\u001b[0m\u001b[1;33m)\u001b[0m\u001b[1;33m\u001b[0m\u001b[1;33m\u001b[0m\u001b[0m\n\u001b[0;32m    195\u001b[0m \u001b[1;33m\u001b[0m\u001b[0m\n\u001b[1;32m--> 196\u001b[1;33m                 \u001b[0mouts\u001b[0m \u001b[1;33m=\u001b[0m \u001b[0mfit_function\u001b[0m\u001b[1;33m(\u001b[0m\u001b[0mins_batch\u001b[0m\u001b[1;33m)\u001b[0m\u001b[1;33m\u001b[0m\u001b[1;33m\u001b[0m\u001b[0m\n\u001b[0m\u001b[0;32m    197\u001b[0m                 \u001b[0mouts\u001b[0m \u001b[1;33m=\u001b[0m \u001b[0mto_list\u001b[0m\u001b[1;33m(\u001b[0m\u001b[0mouts\u001b[0m\u001b[1;33m)\u001b[0m\u001b[1;33m\u001b[0m\u001b[1;33m\u001b[0m\u001b[0m\n\u001b[0;32m    198\u001b[0m                 \u001b[1;32mfor\u001b[0m \u001b[0ml\u001b[0m\u001b[1;33m,\u001b[0m \u001b[0mo\u001b[0m \u001b[1;32min\u001b[0m \u001b[0mzip\u001b[0m\u001b[1;33m(\u001b[0m\u001b[0mout_labels\u001b[0m\u001b[1;33m,\u001b[0m \u001b[0mouts\u001b[0m\u001b[1;33m)\u001b[0m\u001b[1;33m:\u001b[0m\u001b[1;33m\u001b[0m\u001b[1;33m\u001b[0m\u001b[0m\n",
      "\u001b[1;32mD:\\FIAP\\Anaconda3\\envs\\tensorflow\\lib\\site-packages\\tensorflow_core\\python\\keras\\backend.py\u001b[0m in \u001b[0;36m__call__\u001b[1;34m(self, inputs)\u001b[0m\n\u001b[0;32m   3725\u001b[0m         \u001b[0mvalue\u001b[0m \u001b[1;33m=\u001b[0m \u001b[0mmath_ops\u001b[0m\u001b[1;33m.\u001b[0m\u001b[0mcast\u001b[0m\u001b[1;33m(\u001b[0m\u001b[0mvalue\u001b[0m\u001b[1;33m,\u001b[0m \u001b[0mtensor\u001b[0m\u001b[1;33m.\u001b[0m\u001b[0mdtype\u001b[0m\u001b[1;33m)\u001b[0m\u001b[1;33m\u001b[0m\u001b[1;33m\u001b[0m\u001b[0m\n\u001b[0;32m   3726\u001b[0m       \u001b[0mconverted_inputs\u001b[0m\u001b[1;33m.\u001b[0m\u001b[0mappend\u001b[0m\u001b[1;33m(\u001b[0m\u001b[0mvalue\u001b[0m\u001b[1;33m)\u001b[0m\u001b[1;33m\u001b[0m\u001b[1;33m\u001b[0m\u001b[0m\n\u001b[1;32m-> 3727\u001b[1;33m     \u001b[0moutputs\u001b[0m \u001b[1;33m=\u001b[0m \u001b[0mself\u001b[0m\u001b[1;33m.\u001b[0m\u001b[0m_graph_fn\u001b[0m\u001b[1;33m(\u001b[0m\u001b[1;33m*\u001b[0m\u001b[0mconverted_inputs\u001b[0m\u001b[1;33m)\u001b[0m\u001b[1;33m\u001b[0m\u001b[1;33m\u001b[0m\u001b[0m\n\u001b[0m\u001b[0;32m   3728\u001b[0m \u001b[1;33m\u001b[0m\u001b[0m\n\u001b[0;32m   3729\u001b[0m     \u001b[1;31m# EagerTensor.numpy() will often make a copy to ensure memory safety.\u001b[0m\u001b[1;33m\u001b[0m\u001b[1;33m\u001b[0m\u001b[1;33m\u001b[0m\u001b[0m\n",
      "\u001b[1;32mD:\\FIAP\\Anaconda3\\envs\\tensorflow\\lib\\site-packages\\tensorflow_core\\python\\eager\\function.py\u001b[0m in \u001b[0;36m__call__\u001b[1;34m(self, *args, **kwargs)\u001b[0m\n\u001b[0;32m   1549\u001b[0m       \u001b[0mTypeError\u001b[0m\u001b[1;33m:\u001b[0m \u001b[0mFor\u001b[0m \u001b[0minvalid\u001b[0m \u001b[0mpositional\u001b[0m\u001b[1;33m/\u001b[0m\u001b[0mkeyword\u001b[0m \u001b[0margument\u001b[0m \u001b[0mcombinations\u001b[0m\u001b[1;33m.\u001b[0m\u001b[1;33m\u001b[0m\u001b[1;33m\u001b[0m\u001b[0m\n\u001b[0;32m   1550\u001b[0m     \"\"\"\n\u001b[1;32m-> 1551\u001b[1;33m     \u001b[1;32mreturn\u001b[0m \u001b[0mself\u001b[0m\u001b[1;33m.\u001b[0m\u001b[0m_call_impl\u001b[0m\u001b[1;33m(\u001b[0m\u001b[0margs\u001b[0m\u001b[1;33m,\u001b[0m \u001b[0mkwargs\u001b[0m\u001b[1;33m)\u001b[0m\u001b[1;33m\u001b[0m\u001b[1;33m\u001b[0m\u001b[0m\n\u001b[0m\u001b[0;32m   1552\u001b[0m \u001b[1;33m\u001b[0m\u001b[0m\n\u001b[0;32m   1553\u001b[0m   \u001b[1;32mdef\u001b[0m \u001b[0m_call_impl\u001b[0m\u001b[1;33m(\u001b[0m\u001b[0mself\u001b[0m\u001b[1;33m,\u001b[0m \u001b[0margs\u001b[0m\u001b[1;33m,\u001b[0m \u001b[0mkwargs\u001b[0m\u001b[1;33m,\u001b[0m \u001b[0mcancellation_manager\u001b[0m\u001b[1;33m=\u001b[0m\u001b[1;32mNone\u001b[0m\u001b[1;33m)\u001b[0m\u001b[1;33m:\u001b[0m\u001b[1;33m\u001b[0m\u001b[1;33m\u001b[0m\u001b[0m\n",
      "\u001b[1;32mD:\\FIAP\\Anaconda3\\envs\\tensorflow\\lib\\site-packages\\tensorflow_core\\python\\eager\\function.py\u001b[0m in \u001b[0;36m_call_impl\u001b[1;34m(self, args, kwargs, cancellation_manager)\u001b[0m\n\u001b[0;32m   1589\u001b[0m       raise TypeError(\"Keyword arguments {} unknown. Expected {}.\".format(\n\u001b[0;32m   1590\u001b[0m           list(kwargs.keys()), list(self._arg_keywords)))\n\u001b[1;32m-> 1591\u001b[1;33m     \u001b[1;32mreturn\u001b[0m \u001b[0mself\u001b[0m\u001b[1;33m.\u001b[0m\u001b[0m_call_flat\u001b[0m\u001b[1;33m(\u001b[0m\u001b[0margs\u001b[0m\u001b[1;33m,\u001b[0m \u001b[0mself\u001b[0m\u001b[1;33m.\u001b[0m\u001b[0mcaptured_inputs\u001b[0m\u001b[1;33m,\u001b[0m \u001b[0mcancellation_manager\u001b[0m\u001b[1;33m)\u001b[0m\u001b[1;33m\u001b[0m\u001b[1;33m\u001b[0m\u001b[0m\n\u001b[0m\u001b[0;32m   1592\u001b[0m \u001b[1;33m\u001b[0m\u001b[0m\n\u001b[0;32m   1593\u001b[0m   \u001b[1;32mdef\u001b[0m \u001b[0m_filtered_call\u001b[0m\u001b[1;33m(\u001b[0m\u001b[0mself\u001b[0m\u001b[1;33m,\u001b[0m \u001b[0margs\u001b[0m\u001b[1;33m,\u001b[0m \u001b[0mkwargs\u001b[0m\u001b[1;33m)\u001b[0m\u001b[1;33m:\u001b[0m\u001b[1;33m\u001b[0m\u001b[1;33m\u001b[0m\u001b[0m\n",
      "\u001b[1;32mD:\\FIAP\\Anaconda3\\envs\\tensorflow\\lib\\site-packages\\tensorflow_core\\python\\eager\\function.py\u001b[0m in \u001b[0;36m_call_flat\u001b[1;34m(self, args, captured_inputs, cancellation_manager)\u001b[0m\n\u001b[0;32m   1690\u001b[0m       \u001b[1;31m# No tape is watching; skip to running the function.\u001b[0m\u001b[1;33m\u001b[0m\u001b[1;33m\u001b[0m\u001b[1;33m\u001b[0m\u001b[0m\n\u001b[0;32m   1691\u001b[0m       return self._build_call_outputs(self._inference_function.call(\n\u001b[1;32m-> 1692\u001b[1;33m           ctx, args, cancellation_manager=cancellation_manager))\n\u001b[0m\u001b[0;32m   1693\u001b[0m     forward_backward = self._select_forward_and_backward_functions(\n\u001b[0;32m   1694\u001b[0m         \u001b[0margs\u001b[0m\u001b[1;33m,\u001b[0m\u001b[1;33m\u001b[0m\u001b[1;33m\u001b[0m\u001b[0m\n",
      "\u001b[1;32mD:\\FIAP\\Anaconda3\\envs\\tensorflow\\lib\\site-packages\\tensorflow_core\\python\\eager\\function.py\u001b[0m in \u001b[0;36mcall\u001b[1;34m(self, ctx, args, cancellation_manager)\u001b[0m\n\u001b[0;32m    543\u001b[0m               \u001b[0minputs\u001b[0m\u001b[1;33m=\u001b[0m\u001b[0margs\u001b[0m\u001b[1;33m,\u001b[0m\u001b[1;33m\u001b[0m\u001b[1;33m\u001b[0m\u001b[0m\n\u001b[0;32m    544\u001b[0m               \u001b[0mattrs\u001b[0m\u001b[1;33m=\u001b[0m\u001b[1;33m(\u001b[0m\u001b[1;34m\"executor_type\"\u001b[0m\u001b[1;33m,\u001b[0m \u001b[0mexecutor_type\u001b[0m\u001b[1;33m,\u001b[0m \u001b[1;34m\"config_proto\"\u001b[0m\u001b[1;33m,\u001b[0m \u001b[0mconfig\u001b[0m\u001b[1;33m)\u001b[0m\u001b[1;33m,\u001b[0m\u001b[1;33m\u001b[0m\u001b[1;33m\u001b[0m\u001b[0m\n\u001b[1;32m--> 545\u001b[1;33m               ctx=ctx)\n\u001b[0m\u001b[0;32m    546\u001b[0m         \u001b[1;32melse\u001b[0m\u001b[1;33m:\u001b[0m\u001b[1;33m\u001b[0m\u001b[1;33m\u001b[0m\u001b[0m\n\u001b[0;32m    547\u001b[0m           outputs = execute.execute_with_cancellation(\n",
      "\u001b[1;32mD:\\FIAP\\Anaconda3\\envs\\tensorflow\\lib\\site-packages\\tensorflow_core\\python\\eager\\execute.py\u001b[0m in \u001b[0;36mquick_execute\u001b[1;34m(op_name, num_outputs, inputs, attrs, ctx, name)\u001b[0m\n\u001b[0;32m     65\u001b[0m     \u001b[1;32melse\u001b[0m\u001b[1;33m:\u001b[0m\u001b[1;33m\u001b[0m\u001b[1;33m\u001b[0m\u001b[0m\n\u001b[0;32m     66\u001b[0m       \u001b[0mmessage\u001b[0m \u001b[1;33m=\u001b[0m \u001b[0me\u001b[0m\u001b[1;33m.\u001b[0m\u001b[0mmessage\u001b[0m\u001b[1;33m\u001b[0m\u001b[1;33m\u001b[0m\u001b[0m\n\u001b[1;32m---> 67\u001b[1;33m     \u001b[0msix\u001b[0m\u001b[1;33m.\u001b[0m\u001b[0mraise_from\u001b[0m\u001b[1;33m(\u001b[0m\u001b[0mcore\u001b[0m\u001b[1;33m.\u001b[0m\u001b[0m_status_to_exception\u001b[0m\u001b[1;33m(\u001b[0m\u001b[0me\u001b[0m\u001b[1;33m.\u001b[0m\u001b[0mcode\u001b[0m\u001b[1;33m,\u001b[0m \u001b[0mmessage\u001b[0m\u001b[1;33m)\u001b[0m\u001b[1;33m,\u001b[0m \u001b[1;32mNone\u001b[0m\u001b[1;33m)\u001b[0m\u001b[1;33m\u001b[0m\u001b[1;33m\u001b[0m\u001b[0m\n\u001b[0m\u001b[0;32m     68\u001b[0m   \u001b[1;32mexcept\u001b[0m \u001b[0mTypeError\u001b[0m \u001b[1;32mas\u001b[0m \u001b[0me\u001b[0m\u001b[1;33m:\u001b[0m\u001b[1;33m\u001b[0m\u001b[1;33m\u001b[0m\u001b[0m\n\u001b[0;32m     69\u001b[0m     keras_symbolic_tensors = [\n",
      "\u001b[1;32mD:\\FIAP\\Anaconda3\\envs\\tensorflow\\lib\\site-packages\\six.py\u001b[0m in \u001b[0;36mraise_from\u001b[1;34m(value, from_value)\u001b[0m\n",
      "\u001b[1;31mResourceExhaustedError\u001b[0m:  OOM when allocating tensor with shape[120,4,96,96] and type float on /job:localhost/replica:0/task:0/device:GPU:0 by allocator GPU_0_bfc\n\t [[node conv2d_14/convolution (defined at D:\\FIAP\\Anaconda3\\envs\\tensorflow\\lib\\site-packages\\keras\\backend\\tensorflow_backend.py:3009) ]]\nHint: If you want to see a list of allocated tensors when OOM happens, add report_tensor_allocations_upon_oom to RunOptions for current allocation info.\n [Op:__inference_keras_scratch_graph_251665]\n\nFunction call stack:\nkeras_scratch_graph\n"
     ]
    }
   ],
   "source": [
    "model = CNN_PaperOriginal(num_frutas,100,3)\n",
    "model.compile(loss='categorical_crossentropy', optimizer='adam', metrics=['accuracy'])\n",
    "history = model.fit(X_train, Y_train, validation_split = 0.2, epochs=20, batch_size=120)\n",
    "plot_history(history)\n",
    "scores = model.evaluate(X_train, Y_train, verbose=0)\n",
    "print(\"Erro da CNN: %.2f%%\" % (100-scores[1]*100))\n",
    "print(\"Acurácia da CNN: %.2f%%\" % (scores[1]*100))"
   ]
  },
  {
   "cell_type": "code",
   "execution_count": 15,
   "metadata": {},
   "outputs": [
    {
     "name": "stdout",
     "output_type": "stream",
     "text": [
      "0 - Apple Red 1\n",
      "1 - Banana\n",
      "2 - Blueberry\n",
      "3 - Cherry 2\n",
      "4 - Grape Blue\n",
      "Erro da CNN: 3.02%\n",
      "Acurária da CNN: 96.98%\n"
     ]
    }
   ],
   "source": [
    "X_frutas, Y_frutas = get_dados(path_teste, 100)\n",
    "X_test = np.asarray(X_frutas).astype(np.float32)\n",
    "Y_test = np.asarray(Y_frutas)\n",
    "X_test = X_test.astype('float32')/255\n",
    "Y_test = to_categorical(Y_test, num_frutas)\n",
    "scores = model.evaluate(X_test, Y_test, verbose=0)\n",
    "print(\"Erro da CNN: %.2f%%\" % (100-scores[1]*100))\n",
    "print(\"Acurária da CNN: %.2f%%\" % (scores[1]*100))"
   ]
  },
  {
   "cell_type": "markdown",
   "metadata": {},
   "source": [
    "# Gray Scale"
   ]
  },
  {
   "cell_type": "code",
   "execution_count": 20,
   "metadata": {},
   "outputs": [
    {
     "name": "stdout",
     "output_type": "stream",
     "text": [
      "0 - Apple Red 1\n",
      "1 - Banana\n",
      "2 - Blueberry\n",
      "3 - Cherry 2\n",
      "4 - Grape Blue\n",
      "5\n"
     ]
    }
   ],
   "source": [
    "X_frutas, Y_frutas = get_dados_grayscale(path_treino, 28)\n",
    "X_train_grayscale = np.asarray(X_frutas).astype(np.float32)\n",
    "Y_train_grayscale = np.asarray(Y_frutas)\n",
    "X_train_grayscale = X_train_grayscale.astype('float32')/255\n",
    "num_frutas = len(list(set(Y_train_grayscale)))\n",
    "print(num_frutas)\n",
    "Y_train_grayscale = to_categorical(Y_train_grayscale, num_frutas)"
   ]
  },
  {
   "cell_type": "code",
   "execution_count": 21,
   "metadata": {},
   "outputs": [
    {
     "name": "stdout",
     "output_type": "stream",
     "text": [
      "(None, 24, 24, 6)\n",
      "(None, 12, 12, 6)\n",
      "(None, 8, 8, 16)\n",
      "(None, 4, 4, 16)\n",
      "(None, 256)\n",
      "(None, 240)\n",
      "(None, 120)\n",
      "(None, 5)\n",
      "Train on 2532 samples, validate on 634 samples\n",
      "Epoch 1/10\n",
      "2532/2532 [==============================] - 1s 402us/step - loss: 0.8039 - accuracy: 0.6817 - val_loss: 0.8079 - val_accuracy: 0.4322\n",
      "Epoch 2/10\n",
      "2532/2532 [==============================] - 0s 130us/step - loss: 0.2246 - accuracy: 0.9198 - val_loss: 0.7143 - val_accuracy: 0.5521\n",
      "Epoch 3/10\n",
      "2532/2532 [==============================] - 0s 126us/step - loss: 0.1102 - accuracy: 0.9668 - val_loss: 0.4782 - val_accuracy: 0.8186\n",
      "Epoch 4/10\n",
      "2532/2532 [==============================] - 0s 129us/step - loss: 0.0637 - accuracy: 0.9818 - val_loss: 0.4127 - val_accuracy: 0.8612\n",
      "Epoch 5/10\n",
      "2532/2532 [==============================] - 0s 127us/step - loss: 0.0515 - accuracy: 0.9846 - val_loss: 0.6614 - val_accuracy: 0.6877\n",
      "Epoch 6/10\n",
      "2532/2532 [==============================] - 0s 128us/step - loss: 0.0314 - accuracy: 0.9929 - val_loss: 1.9492 - val_accuracy: 0.4101\n",
      "Epoch 7/10\n",
      "2532/2532 [==============================] - 0s 130us/step - loss: 0.0202 - accuracy: 0.9949 - val_loss: 1.4668 - val_accuracy: 0.4732\n",
      "Epoch 8/10\n",
      "2532/2532 [==============================] - 0s 124us/step - loss: 0.0150 - accuracy: 0.9972 - val_loss: 1.2482 - val_accuracy: 0.5237\n",
      "Epoch 9/10\n",
      "2532/2532 [==============================] - 0s 121us/step - loss: 0.0107 - accuracy: 0.9984 - val_loss: 1.9479 - val_accuracy: 0.4464\n",
      "Epoch 10/10\n",
      "2532/2532 [==============================] - 0s 125us/step - loss: 0.0090 - accuracy: 0.9988 - val_loss: 1.1885 - val_accuracy: 0.5584\n",
      "Erro da CNN: 8.84%\n",
      "Acurácia da CNN: 91.16%\n"
     ]
    },
    {
     "data": {
      "image/png": "[encoded data removed]",
      "text/plain": [
       "<Figure size 864x360 with 2 Axes>"
      ]
     },
     "metadata": {
      "needs_background": "light"
     },
     "output_type": "display_data"
    }
   ],
   "source": [
    "model = CNN_LeNet5(num_frutas,28,1)\n",
    "model.compile(loss='categorical_crossentropy', optimizer='adam', metrics=['accuracy'])\n",
    "history = model.fit(X_train_grayscale, Y_train_grayscale, validation_split = 0.2, epochs=20, batch_size=120)\n",
    "plot_history(history)\n",
    "scores = model.evaluate(X_train_grayscale, Y_train_grayscale, verbose=0)\n",
    "print(\"Erro da CNN: %.2f%%\" % (100-scores[1]*100))\n",
    "print(\"Acurácia da CNN: %.2f%%\" % (scores[1]*100))"
   ]
  },
  {
   "cell_type": "code",
   "execution_count": 22,
   "metadata": {},
   "outputs": [
    {
     "name": "stdout",
     "output_type": "stream",
     "text": [
      "0 - Apple Red 1\n",
      "1 - Banana\n",
      "2 - Blueberry\n",
      "3 - Cherry 2\n",
      "4 - Grape Blue\n",
      "Erro da CNN: 12.19%\n",
      "Acurária da CNN: 87.81%\n"
     ]
    }
   ],
   "source": [
    "X_frutas, Y_frutas = get_dados_grayscale(path_teste, 28)\n",
    "X_test_grayscale = np.asarray(X_frutas).astype(np.float32)\n",
    "Y_test_grayscale = np.asarray(Y_frutas)\n",
    "X_test_grayscale = X_test_grayscale.astype('float32')/255\n",
    "Y_test_grayscale = to_categorical(Y_test_grayscale, num_frutas)\n",
    "scores = model.evaluate(X_test_grayscale, Y_test_grayscale, verbose=0)\n",
    "print(\"Erro da CNN: %.2f%%\" % (100-scores[1]*100))\n",
    "print(\"Acurária da CNN: %.2f%%\" % (scores[1]*100))"
   ]
  },
  {
   "cell_type": "code",
   "execution_count": null,
   "metadata": {},
   "outputs": [],
   "source": [
    "print (\"Fim Execução : \")\n",
    "print (datetime.now().strftime(\"%Y-%m-%d %H:%M:%S\"))"
   ]
  },
  {
   "cell_type": "markdown",
   "metadata": {},
   "source": [
    "# HSV_GrayScale"
   ]
  },
  {
   "cell_type": "code",
   "execution_count": null,
   "metadata": {},
   "outputs": [],
   "source": [
    "#X_frutas, Y_frutas = get_dados_hsv_grayscale(path_treino, 224)\n",
    "#X_train_hsv_grayscale = np.asarray(X_frutas).astype(np.float32)\n",
    "#Y_train_hsv_grayscale = np.asarray(Y_frutas)\n",
    "#X_train_hsv_grayscale = X_train_hsv_grayscale.astype('float32')/255\n",
    "#num_frutas = len(list(set(Y_train_hsv_grayscale)))\n",
    "#print(num_frutas)\n",
    "#Y_train = to_categorical(Y_train_hsv_grayscale, num_frutas)"
   ]
  },
  {
   "cell_type": "markdown",
   "metadata": {},
   "source": [
    "#model = CNN_AlexNet(num_frutas,224,4)\n",
    "#model.compile(loss='categorical_crossentropy', optimizer='adam', metrics=['accuracy'])\n",
    "#history = model.fit(X_train, Y_train, validation_split = 0.2, epochs=10, batch_size=60)\n",
    "#plot_history(history)\n",
    "#scores = model.evaluate(X_train, Y_train, verbose=0)\n",
    "#print(\"Erro da CNN: %.2f%%\" % (100-scores[1]*100))\n",
    "#print(\"Acurácia da CNN: %.2f%%\" % (scores[1]*100))"
   ]
  },
  {
   "cell_type": "code",
   "execution_count": null,
   "metadata": {},
   "outputs": [],
   "source": [
    "#X_frutas, Y_frutas = get_dados_hsv_grayscale(path_teste, 28)\n",
    "#X_test_hsv_grayscale = np.asarray(X_frutas).astype(np.float32)\n",
    "#Y_test_hsv_grayscale = np.asarray(Y_frutas)\n",
    "#X_test_hsv_grayscale = X_test_hsv_grayscale.astype('float32')/255\n",
    "#Y_test_hsv_grayscale = to_categorical(Y_test_hsv_grayscale, num_frutas)\n",
    "#scores = model.evaluate(X_test_hsv_grayscale, Y_test_hsv_grayscale, verbose=0)\n",
    "#print(\"Erro da CNN: %.2f%%\" % (100-scores[1]*100))\n",
    "#print(\"Acurária da CNN: %.2f%%\" % (scores[1]*100))"
   ]
  }
 ],
 "metadata": {
  "kernelspec": {
   "display_name": "Python 3",
   "language": "python",
   "name": "python3"
  },
  "language_info": {
   "codemirror_mode": {
    "name": "ipython",
    "version": 3
   },
   "file_extension": ".py",
   "mimetype": "text/x-python",
   "name": "python",
   "nbconvert_exporter": "python",
   "pygments_lexer": "ipython3",
   "version": "3.7.10"
  }
 },
 "nbformat": 4,
 "nbformat_minor": 4
}
