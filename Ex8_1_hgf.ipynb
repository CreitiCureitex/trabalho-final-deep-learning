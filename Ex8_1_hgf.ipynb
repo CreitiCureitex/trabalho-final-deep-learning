{
 "cells": [
  {
   "cell_type": "markdown",
   "source": [
    "## Bibliotecas Utilizadas"
   ],
   "metadata": {}
  },
  {
   "cell_type": "code",
   "execution_count": 231,
   "source": [
    "import os\r\n",
    "import cv2\r\n",
    "import numpy as np\r\n",
    "import matplotlib.pyplot as plt\r\n",
    "import tensorflow as tf\r\n",
    "from tensorflow.keras.utils import to_categorical\r\n",
    "from keras.models import Sequential, load_model\r\n",
    "from keras.layers import Dense\r\n",
    "from keras.layers import Dropout\r\n",
    "from keras.layers import Flatten\r\n",
    "from keras.layers.convolutional import Conv2D\r\n",
    "from keras.layers.convolutional import MaxPooling2D, AveragePooling2D\r\n",
    "from keras.utils import np_utils\r\n",
    "from keras.utils.vis_utils import plot_model\r\n",
    "from keras import backend as K\r\n",
    "from keras.preprocessing.image import img_to_array, load_img, array_to_img\r\n",
    "from datetime import datetime, time\r\n",
    "\r\n"
   ],
   "outputs": [],
   "metadata": {}
  },
  {
   "cell_type": "code",
   "execution_count": 124,
   "source": [
    "print (\"Início Execução : \")\r\n",
    "print (datetime.now().strftime(\"%Y-%m-%d %H:%M:%S\"))"
   ],
   "outputs": [
    {
     "output_type": "stream",
     "name": "stdout",
     "text": [
      "Início Execução : \n",
      "2021-07-19 11:35:20\n"
     ]
    }
   ],
   "metadata": {}
  },
  {
   "cell_type": "markdown",
   "source": [
    "# Carregando os dados "
   ],
   "metadata": {}
  },
  {
   "cell_type": "code",
   "execution_count": 125,
   "source": [
    "path_treino = './data/frutas/Training' \r\n",
    "path_teste = './data/frutas/Test'"
   ],
   "outputs": [],
   "metadata": {}
  },
  {
   "cell_type": "code",
   "execution_count": 228,
   "source": [
    "def get_dados(path, numero_frutas):\r\n",
    "    lista_dir = os.listdir(path)\r\n",
    "    X = []\r\n",
    "    Y = []\r\n",
    "    fruta_num = 0\r\n",
    "    passo = len(lista_dir)/numero_frutas\r\n",
    "    for idx, fruta in enumerate(lista_dir):\r\n",
    "        if (idx % passo != 0):\r\n",
    "            continue\r\n",
    "        lista_img = os.listdir(f\"{path}/{fruta}\")\r\n",
    "        print(f\"{fruta_num} - {idx} - {fruta}\")\r\n",
    "        for img in lista_img:\r\n",
    "            arquivo = f\"{path}/{fruta}/{img}\"\r\n",
    "            img_fruta = img_to_array(load_img(arquivo, target_size=(32, 32)))\r\n",
    "            X.append(img_fruta)\r\n",
    "            Y.append(fruta_num)\r\n",
    "        fruta_num = fruta_num + 1    \r\n",
    "    return (X, Y)"
   ],
   "outputs": [],
   "metadata": {}
  },
  {
   "cell_type": "code",
   "execution_count": 127,
   "source": [
    "def plot_history(history):\r\n",
    "    acc = history.history['accuracy']\r\n",
    "    val_acc = history.history['val_accuracy']\r\n",
    "    loss = history.history['loss']\r\n",
    "    val_loss = history.history['val_loss']\r\n",
    "    x = range(1, len(acc) + 1)\r\n",
    "    plt.figure(figsize=(12, 5))\r\n",
    "    plt.subplot(1, 2, 1)\r\n",
    "    plt.plot(x, acc, 'b', label='Training Accuracy')\r\n",
    "    plt.plot(x, val_acc, 'r', label='Validation Accuracy')\r\n",
    "    plt.title('Training and validation Accuracy')\r\n",
    "    plt.subplot(1, 2, 2)\r\n",
    "    plt.plot(x, loss, 'b', label='Training loss')\r\n",
    "    plt.plot(x, val_loss, 'r', label='Validation loss')\r\n",
    "    plt.title('Training and validation loss')\r\n",
    "    plt.legend()"
   ],
   "outputs": [],
   "metadata": {}
  },
  {
   "cell_type": "code",
   "execution_count": 369,
   "source": [
    "num_frutas = 10"
   ],
   "outputs": [],
   "metadata": {}
  },
  {
   "cell_type": "code",
   "execution_count": 370,
   "source": [
    "X_frutas, Y_frutas = get_dados(path_treino, num_frutas)"
   ],
   "outputs": [
    {
     "output_type": "stream",
     "name": "stdout",
     "text": [
      "0 - 0 - Apple Braeburn\n",
      "1 - 12 - Apple Red Yellow 2\n",
      "2 - 24 - Carambula\n",
      "3 - 36 - Eggplant\n",
      "4 - 48 - Hazelnut\n",
      "5 - 60 - Mango Red\n",
      "6 - 72 - Orange\n",
      "7 - 84 - Pear Williams\n",
      "8 - 96 - Plum 3\n",
      "9 - 108 - Strawberry\n"
     ]
    }
   ],
   "metadata": {}
  },
  {
   "cell_type": "code",
   "execution_count": 371,
   "source": [
    "plt.figure(figsize=(5,5))\r\n",
    "plt.imshow(array_to_img(X_frutas[990]))"
   ],
   "outputs": [
    {
     "output_type": "execute_result",
     "data": {
      "text/plain": [
       "<matplotlib.image.AxesImage at 0x2bf81181850>"
      ]
     },
     "metadata": {},
     "execution_count": 371
    },
    {
     "output_type": "display_data",
     "data": {
      "text/plain": [
       "<Figure size 360x360 with 1 Axes>"
      ],
      "image/png": "[encoded data removed]"
     },
     "metadata": {
      "needs_background": "light"
     }
    }
   ],
   "metadata": {}
  },
  {
   "cell_type": "code",
   "execution_count": 376,
   "source": [
    "Y_frutas[990]"
   ],
   "outputs": [
    {
     "output_type": "execute_result",
     "data": {
      "text/plain": [
       "1"
      ]
     },
     "metadata": {},
     "execution_count": 376
    }
   ],
   "metadata": {}
  },
  {
   "cell_type": "code",
   "execution_count": 351,
   "source": [
    "len(X_frutas)"
   ],
   "outputs": [
    {
     "output_type": "execute_result",
     "data": {
      "text/plain": [
       "2825"
      ]
     },
     "metadata": {},
     "execution_count": 351
    }
   ],
   "metadata": {}
  },
  {
   "cell_type": "code",
   "execution_count": 352,
   "source": [
    "len(Y_frutas)"
   ],
   "outputs": [
    {
     "output_type": "execute_result",
     "data": {
      "text/plain": [
       "2825"
      ]
     },
     "metadata": {},
     "execution_count": 352
    }
   ],
   "metadata": {}
  },
  {
   "cell_type": "code",
   "execution_count": 353,
   "source": [
    "X_train = np.asarray(X_frutas).astype(np.float32)\r\n",
    "Y_train = np.asarray(Y_frutas)"
   ],
   "outputs": [],
   "metadata": {}
  },
  {
   "cell_type": "code",
   "execution_count": 354,
   "source": [
    "X_train.shape"
   ],
   "outputs": [
    {
     "output_type": "execute_result",
     "data": {
      "text/plain": [
       "(2825, 32, 32, 3)"
      ]
     },
     "metadata": {},
     "execution_count": 354
    }
   ],
   "metadata": {}
  },
  {
   "cell_type": "code",
   "execution_count": 355,
   "source": [
    "Y_train.shape"
   ],
   "outputs": [
    {
     "output_type": "execute_result",
     "data": {
      "text/plain": [
       "(2825,)"
      ]
     },
     "metadata": {},
     "execution_count": 355
    }
   ],
   "metadata": {}
  },
  {
   "cell_type": "code",
   "execution_count": 356,
   "source": [
    "X_train = X_train/255"
   ],
   "outputs": [],
   "metadata": {}
  },
  {
   "cell_type": "code",
   "execution_count": 357,
   "source": [
    "Y_train = to_categorical(Y_train, num_frutas)"
   ],
   "outputs": [],
   "metadata": {}
  },
  {
   "cell_type": "code",
   "execution_count": 358,
   "source": [
    "Y_train.shape"
   ],
   "outputs": [
    {
     "output_type": "execute_result",
     "data": {
      "text/plain": [
       "(2825, 5)"
      ]
     },
     "metadata": {},
     "execution_count": 358
    }
   ],
   "metadata": {}
  },
  {
   "cell_type": "code",
   "execution_count": 368,
   "source": [
    "print(num_frutas)"
   ],
   "outputs": [
    {
     "output_type": "stream",
     "name": "stdout",
     "text": [
      "5\n"
     ]
    }
   ],
   "metadata": {}
  },
  {
   "cell_type": "code",
   "execution_count": 363,
   "source": [
    "# Cria o modelo\r\n",
    "model = Sequential()\r\n",
    "#Convolução 2D \r\n",
    "model.add(Conv2D(6, (5, 5), input_shape=(32, 32, 3), activation='relu'))\r\n",
    "#Camada de Pooling \t    \r\n",
    "#model.add(MaxPooling2D(pool_size=(2, 2)))\r\n",
    "model.add(AveragePooling2D(pool_size=(2, 2)))\r\n",
    "#model.add(Dropout(0.4))\r\n",
    "#Convolução 2D\r\n",
    "model.add(Conv2D(16, (5, 5), activation='relu'))\r\n",
    "#Camada de Pooling \t    \r\n",
    "#model.add(MaxPooling2D(pool_size=(2, 2)))\r\n",
    "model.add(AveragePooling2D(pool_size=(2, 2)))\r\n",
    "#model.add(Dropout(0.4))\r\n",
    "#Converte o conjunto de imagens e um vetor unidimensional para a entrada da rede neural totalmente conectada\r\n",
    "model.add(Flatten())\r\n",
    "model.add(Dense(120, activation='relu'))\r\n",
    "#model.add(Dropout(0.4))\r\n",
    "model.add(Dense(84, activation='relu'))\r\n",
    "#model.add(Dropout(0.4))\r\n",
    "model.add(Dense(num_frutas, activation='softmax'))\r\n",
    "model.summary()"
   ],
   "outputs": [
    {
     "output_type": "stream",
     "name": "stdout",
     "text": [
      "Model: \"sequential_28\"\n",
      "_________________________________________________________________\n",
      "Layer (type)                 Output Shape              Param #   \n",
      "=================================================================\n",
      "conv2d_68 (Conv2D)           (None, 28, 28, 6)         456       \n",
      "_________________________________________________________________\n",
      "average_pooling2d_22 (Averag (None, 14, 14, 6)         0         \n",
      "_________________________________________________________________\n",
      "conv2d_69 (Conv2D)           (None, 10, 10, 16)        2416      \n",
      "_________________________________________________________________\n",
      "average_pooling2d_23 (Averag (None, 5, 5, 16)          0         \n",
      "_________________________________________________________________\n",
      "flatten_26 (Flatten)         (None, 400)               0         \n",
      "_________________________________________________________________\n",
      "dense_78 (Dense)             (None, 120)               48120     \n",
      "_________________________________________________________________\n",
      "dense_79 (Dense)             (None, 84)                10164     \n",
      "_________________________________________________________________\n",
      "dense_80 (Dense)             (None, 5)                 425       \n",
      "=================================================================\n",
      "Total params: 61,581\n",
      "Trainable params: 61,581\n",
      "Non-trainable params: 0\n",
      "_________________________________________________________________\n"
     ]
    }
   ],
   "metadata": {}
  },
  {
   "cell_type": "code",
   "execution_count": 364,
   "source": [
    "plot_model(model, show_shapes=True, show_layer_names=True)"
   ],
   "outputs": [
    {
     "output_type": "execute_result",
     "data": {
      "text/plain": [
       "<IPython.core.display.Image object>"
      ],
      "image/png": "[encoded data removed]"
     },
     "metadata": {},
     "execution_count": 364
    }
   ],
   "metadata": {}
  },
  {
   "cell_type": "code",
   "execution_count": 365,
   "source": [
    "model.compile(loss='categorical_crossentropy', optimizer='adam', metrics=['accuracy'])"
   ],
   "outputs": [],
   "metadata": {}
  },
  {
   "cell_type": "code",
   "execution_count": 366,
   "source": [
    "history = model.fit(X_train, Y_train, validation_split = 0.2, epochs=50, batch_size=64)"
   ],
   "outputs": [
    {
     "output_type": "stream",
     "name": "stdout",
     "text": [
      "Epoch 1/50\n",
      "36/36 [==============================] - 0s 9ms/step - loss: 0.6779 - accuracy: 0.7527 - val_loss: 0.0981 - val_accuracy: 1.0000\n",
      "Epoch 2/50\n",
      "36/36 [==============================] - 0s 4ms/step - loss: 0.0891 - accuracy: 0.9704 - val_loss: 0.0311 - val_accuracy: 1.0000\n",
      "Epoch 3/50\n",
      "36/36 [==============================] - 0s 4ms/step - loss: 0.0137 - accuracy: 0.9991 - val_loss: 0.0192 - val_accuracy: 1.0000\n",
      "Epoch 4/50\n",
      "36/36 [==============================] - 0s 4ms/step - loss: 0.0036 - accuracy: 1.0000 - val_loss: 0.0071 - val_accuracy: 1.0000\n",
      "Epoch 5/50\n",
      "36/36 [==============================] - 0s 4ms/step - loss: 0.0017 - accuracy: 1.0000 - val_loss: 0.0047 - val_accuracy: 1.0000\n",
      "Epoch 6/50\n",
      "36/36 [==============================] - 0s 4ms/step - loss: 9.6120e-04 - accuracy: 1.0000 - val_loss: 0.0040 - val_accuracy: 1.0000\n",
      "Epoch 7/50\n",
      "36/36 [==============================] - 0s 4ms/step - loss: 6.6596e-04 - accuracy: 1.0000 - val_loss: 0.0031 - val_accuracy: 1.0000\n",
      "Epoch 8/50\n",
      "36/36 [==============================] - 0s 5ms/step - loss: 4.8074e-04 - accuracy: 1.0000 - val_loss: 0.0024 - val_accuracy: 1.0000\n",
      "Epoch 9/50\n",
      "36/36 [==============================] - 0s 4ms/step - loss: 3.8393e-04 - accuracy: 1.0000 - val_loss: 0.0016 - val_accuracy: 1.0000\n",
      "Epoch 10/50\n",
      "36/36 [==============================] - 0s 4ms/step - loss: 2.9332e-04 - accuracy: 1.0000 - val_loss: 0.0013 - val_accuracy: 1.0000\n",
      "Epoch 11/50\n",
      "36/36 [==============================] - 0s 4ms/step - loss: 2.3929e-04 - accuracy: 1.0000 - val_loss: 0.0014 - val_accuracy: 1.0000\n",
      "Epoch 12/50\n",
      "36/36 [==============================] - 0s 4ms/step - loss: 2.0509e-04 - accuracy: 1.0000 - val_loss: 0.0011 - val_accuracy: 1.0000\n",
      "Epoch 13/50\n",
      "36/36 [==============================] - 0s 4ms/step - loss: 1.6694e-04 - accuracy: 1.0000 - val_loss: 8.6734e-04 - val_accuracy: 1.0000\n",
      "Epoch 14/50\n",
      "36/36 [==============================] - 0s 4ms/step - loss: 1.4356e-04 - accuracy: 1.0000 - val_loss: 8.2833e-04 - val_accuracy: 1.0000\n",
      "Epoch 15/50\n",
      "36/36 [==============================] - 0s 4ms/step - loss: 1.2392e-04 - accuracy: 1.0000 - val_loss: 7.0518e-04 - val_accuracy: 1.0000\n",
      "Epoch 16/50\n",
      "36/36 [==============================] - 0s 4ms/step - loss: 1.0792e-04 - accuracy: 1.0000 - val_loss: 5.8531e-04 - val_accuracy: 1.0000\n",
      "Epoch 17/50\n",
      "36/36 [==============================] - 0s 4ms/step - loss: 9.3006e-05 - accuracy: 1.0000 - val_loss: 6.0135e-04 - val_accuracy: 1.0000\n",
      "Epoch 18/50\n",
      "36/36 [==============================] - 0s 4ms/step - loss: 8.2877e-05 - accuracy: 1.0000 - val_loss: 5.1655e-04 - val_accuracy: 1.0000\n",
      "Epoch 19/50\n",
      "36/36 [==============================] - 0s 4ms/step - loss: 7.4137e-05 - accuracy: 1.0000 - val_loss: 5.1753e-04 - val_accuracy: 1.0000\n",
      "Epoch 20/50\n",
      "36/36 [==============================] - 0s 4ms/step - loss: 6.6800e-05 - accuracy: 1.0000 - val_loss: 4.0101e-04 - val_accuracy: 1.0000\n",
      "Epoch 21/50\n",
      "36/36 [==============================] - 0s 4ms/step - loss: 6.0560e-05 - accuracy: 1.0000 - val_loss: 3.9642e-04 - val_accuracy: 1.0000\n",
      "Epoch 22/50\n",
      "36/36 [==============================] - 0s 4ms/step - loss: 5.3705e-05 - accuracy: 1.0000 - val_loss: 3.5937e-04 - val_accuracy: 1.0000\n",
      "Epoch 23/50\n",
      "36/36 [==============================] - 0s 4ms/step - loss: 4.8945e-05 - accuracy: 1.0000 - val_loss: 3.6478e-04 - val_accuracy: 1.0000\n",
      "Epoch 24/50\n",
      "36/36 [==============================] - 0s 4ms/step - loss: 4.4990e-05 - accuracy: 1.0000 - val_loss: 3.1981e-04 - val_accuracy: 1.0000\n",
      "Epoch 25/50\n",
      "36/36 [==============================] - 0s 4ms/step - loss: 4.1068e-05 - accuracy: 1.0000 - val_loss: 3.0238e-04 - val_accuracy: 1.0000\n",
      "Epoch 26/50\n",
      "36/36 [==============================] - 0s 4ms/step - loss: 3.7447e-05 - accuracy: 1.0000 - val_loss: 2.6917e-04 - val_accuracy: 1.0000\n",
      "Epoch 27/50\n",
      "36/36 [==============================] - 0s 4ms/step - loss: 3.4417e-05 - accuracy: 1.0000 - val_loss: 2.3413e-04 - val_accuracy: 1.0000\n",
      "Epoch 28/50\n",
      "36/36 [==============================] - 0s 4ms/step - loss: 3.1954e-05 - accuracy: 1.0000 - val_loss: 2.3546e-04 - val_accuracy: 1.0000\n",
      "Epoch 29/50\n",
      "36/36 [==============================] - 0s 4ms/step - loss: 2.9741e-05 - accuracy: 1.0000 - val_loss: 2.4028e-04 - val_accuracy: 1.0000\n",
      "Epoch 30/50\n",
      "36/36 [==============================] - 0s 4ms/step - loss: 2.7523e-05 - accuracy: 1.0000 - val_loss: 2.1700e-04 - val_accuracy: 1.0000\n",
      "Epoch 31/50\n",
      "36/36 [==============================] - 0s 5ms/step - loss: 2.5625e-05 - accuracy: 1.0000 - val_loss: 1.9661e-04 - val_accuracy: 1.0000\n",
      "Epoch 32/50\n",
      "36/36 [==============================] - 0s 4ms/step - loss: 2.4107e-05 - accuracy: 1.0000 - val_loss: 1.8971e-04 - val_accuracy: 1.0000\n",
      "Epoch 33/50\n",
      "36/36 [==============================] - 0s 4ms/step - loss: 2.2463e-05 - accuracy: 1.0000 - val_loss: 1.8834e-04 - val_accuracy: 1.0000\n",
      "Epoch 34/50\n",
      "36/36 [==============================] - 0s 4ms/step - loss: 2.0896e-05 - accuracy: 1.0000 - val_loss: 1.8344e-04 - val_accuracy: 1.0000\n",
      "Epoch 35/50\n",
      "36/36 [==============================] - 0s 4ms/step - loss: 1.9605e-05 - accuracy: 1.0000 - val_loss: 1.5789e-04 - val_accuracy: 1.0000\n",
      "Epoch 36/50\n",
      "36/36 [==============================] - 0s 4ms/step - loss: 1.8493e-05 - accuracy: 1.0000 - val_loss: 1.5999e-04 - val_accuracy: 1.0000\n",
      "Epoch 37/50\n",
      "36/36 [==============================] - 0s 4ms/step - loss: 1.7310e-05 - accuracy: 1.0000 - val_loss: 1.5401e-04 - val_accuracy: 1.0000\n",
      "Epoch 38/50\n",
      "36/36 [==============================] - 0s 4ms/step - loss: 1.6579e-05 - accuracy: 1.0000 - val_loss: 1.4030e-04 - val_accuracy: 1.0000\n",
      "Epoch 39/50\n",
      "36/36 [==============================] - 0s 4ms/step - loss: 1.5453e-05 - accuracy: 1.0000 - val_loss: 1.3316e-04 - val_accuracy: 1.0000\n",
      "Epoch 40/50\n",
      "36/36 [==============================] - 0s 4ms/step - loss: 1.4554e-05 - accuracy: 1.0000 - val_loss: 1.3017e-04 - val_accuracy: 1.0000\n",
      "Epoch 41/50\n",
      "36/36 [==============================] - 0s 4ms/step - loss: 1.3784e-05 - accuracy: 1.0000 - val_loss: 1.2577e-04 - val_accuracy: 1.0000\n",
      "Epoch 42/50\n",
      "36/36 [==============================] - 0s 5ms/step - loss: 1.3121e-05 - accuracy: 1.0000 - val_loss: 1.1778e-04 - val_accuracy: 1.0000\n",
      "Epoch 43/50\n",
      "36/36 [==============================] - 0s 4ms/step - loss: 1.2505e-05 - accuracy: 1.0000 - val_loss: 1.1724e-04 - val_accuracy: 1.0000\n",
      "Epoch 44/50\n",
      "36/36 [==============================] - 0s 4ms/step - loss: 1.1811e-05 - accuracy: 1.0000 - val_loss: 1.1073e-04 - val_accuracy: 1.0000\n",
      "Epoch 45/50\n",
      "36/36 [==============================] - 0s 5ms/step - loss: 1.1255e-05 - accuracy: 1.0000 - val_loss: 1.0541e-04 - val_accuracy: 1.0000\n",
      "Epoch 46/50\n",
      "36/36 [==============================] - 0s 5ms/step - loss: 1.0727e-05 - accuracy: 1.0000 - val_loss: 1.0008e-04 - val_accuracy: 1.0000\n",
      "Epoch 47/50\n",
      "36/36 [==============================] - 0s 5ms/step - loss: 1.0269e-05 - accuracy: 1.0000 - val_loss: 1.0313e-04 - val_accuracy: 1.0000\n",
      "Epoch 48/50\n",
      "36/36 [==============================] - 0s 4ms/step - loss: 9.7440e-06 - accuracy: 1.0000 - val_loss: 9.3965e-05 - val_accuracy: 1.0000\n",
      "Epoch 49/50\n",
      "36/36 [==============================] - 0s 4ms/step - loss: 9.2342e-06 - accuracy: 1.0000 - val_loss: 9.4420e-05 - val_accuracy: 1.0000\n",
      "Epoch 50/50\n",
      "36/36 [==============================] - 0s 4ms/step - loss: 8.8453e-06 - accuracy: 1.0000 - val_loss: 8.7871e-05 - val_accuracy: 1.0000\n"
     ]
    }
   ],
   "metadata": {}
  },
  {
   "cell_type": "code",
   "execution_count": 367,
   "source": [
    "plot_history(history)"
   ],
   "outputs": [
    {
     "output_type": "display_data",
     "data": {
      "text/plain": [
       "<Figure size 864x360 with 2 Axes>"
      ],
      "image/png": "[encoded data removed]"
     },
     "metadata": {
      "needs_background": "light"
     }
    }
   ],
   "metadata": {}
  },
  {
   "cell_type": "code",
   "execution_count": 177,
   "source": [
    "scores = model.evaluate(X_train, Y_train, verbose=0)\r\n",
    "print(\"Erro da CNN: %.2f%%\" % (100-scores[1]*100))\r\n",
    "print(\"Acurácia da CNN: %.2f%%\" % (scores[1]*100))"
   ],
   "outputs": [
    {
     "output_type": "stream",
     "name": "stdout",
     "text": [
      "Erro da CNN: 15.40%\n",
      "Acurácia da CNN: 84.60%\n"
     ]
    }
   ],
   "metadata": {}
  },
  {
   "cell_type": "code",
   "execution_count": 116,
   "source": [
    "X_frutas, Y_frutas = get_dados(path_teste, num_frutas)"
   ],
   "outputs": [
    {
     "output_type": "stream",
     "name": "stdout",
     "text": [
      "0 - 0 - Apple Braeburn\n",
      "1 - 24 - Carambula\n",
      "2 - 48 - Hazelnut\n",
      "3 - 72 - Orange\n",
      "4 - 96 - Plum 3\n"
     ]
    }
   ],
   "metadata": {}
  },
  {
   "cell_type": "code",
   "execution_count": 117,
   "source": [
    "X_test = np.asarray(X_frutas).astype(np.float32)\r\n",
    "Y_test = np.asarray(Y_frutas)"
   ],
   "outputs": [],
   "metadata": {}
  },
  {
   "cell_type": "code",
   "execution_count": 118,
   "source": [
    "X_test = X_test/255\r\n",
    "Y_test = to_categorical(Y_test, num_frutas)"
   ],
   "outputs": [],
   "metadata": {}
  },
  {
   "cell_type": "code",
   "execution_count": 119,
   "source": [
    "X_test.shape"
   ],
   "outputs": [
    {
     "output_type": "execute_result",
     "data": {
      "text/plain": [
       "(951, 28, 28, 3)"
      ]
     },
     "metadata": {},
     "execution_count": 119
    }
   ],
   "metadata": {}
  },
  {
   "cell_type": "code",
   "execution_count": 120,
   "source": [
    "Y_test.shape"
   ],
   "outputs": [
    {
     "output_type": "execute_result",
     "data": {
      "text/plain": [
       "(951, 5)"
      ]
     },
     "metadata": {},
     "execution_count": 120
    }
   ],
   "metadata": {}
  },
  {
   "cell_type": "code",
   "execution_count": 121,
   "source": [
    "scores = model.evaluate(X_test, Y_test, verbose=0)\r\n",
    "print(\"Erro da CNN: %.2f%%\" % (100-scores[1]*100))\r\n",
    "print(\"Acurária da CNN: %.2f%%\" % (scores[1]*100))"
   ],
   "outputs": [
    {
     "output_type": "stream",
     "name": "stdout",
     "text": [
      "Erro da CNN: 0.21%\n",
      "Acurária da CNN: 99.79%\n"
     ]
    }
   ],
   "metadata": {}
  },
  {
   "cell_type": "code",
   "execution_count": 122,
   "source": [
    "print (\"Fim Execução : \")\r\n",
    "print (datetime.now().strftime(\"%Y-%m-%d %H:%M:%S\"))"
   ],
   "outputs": [
    {
     "output_type": "stream",
     "name": "stdout",
     "text": [
      "Fim Execução : \n",
      "2021-07-19 11:25:55\n"
     ]
    }
   ],
   "metadata": {}
  },
  {
   "cell_type": "code",
   "execution_count": null,
   "source": [],
   "outputs": [],
   "metadata": {}
  }
 ],
 "metadata": {
  "kernelspec": {
   "display_name": "Python 3",
   "language": "python",
   "name": "python3"
  },
  "language_info": {
   "codemirror_mode": {
    "name": "ipython",
    "version": 3
   },
   "file_extension": ".py",
   "mimetype": "text/x-python",
   "name": "python",
   "nbconvert_exporter": "python",
   "pygments_lexer": "ipython3",
   "version": "3.7.10"
  }
 },
 "nbformat": 4,
 "nbformat_minor": 4
}